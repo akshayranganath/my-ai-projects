{
 "cells": [
  {
   "cell_type": "code",
   "execution_count": 139,
   "id": "62063236-fe20-47c8-af6e-ab06b5ef06eb",
   "metadata": {},
   "outputs": [],
   "source": [
    "from sklearn.datasets import fetch_openml"
   ]
  },
  {
   "cell_type": "code",
   "execution_count": 140,
   "id": "9501c9d6-ac37-4ad7-b085-c4bd8fbf448f",
   "metadata": {},
   "outputs": [],
   "source": [
    "X, y = fetch_openml('credit-g', version=2, as_frame=False, return_X_y=True)"
   ]
  },
  {
   "cell_type": "code",
   "execution_count": 141,
   "id": "d4ac931c-98ac-4149-bcd6-8ded41c1b0ce",
   "metadata": {},
   "outputs": [],
   "source": [
    "df = fetch_openml('credit-g', version=2, as_frame=True)#, return_X_y=True)"
   ]
  },
  {
   "cell_type": "code",
   "execution_count": 142,
   "id": "b66e3789-bee4-4678-9f0a-acf69d788deb",
   "metadata": {},
   "outputs": [
    {
     "data": {
      "text/plain": [
       "dict_keys(['data', 'target', 'frame', 'categories', 'feature_names', 'target_names', 'DESCR', 'details', 'url'])"
      ]
     },
     "execution_count": 142,
     "metadata": {},
     "output_type": "execute_result"
    }
   ],
   "source": [
    "df.keys()"
   ]
  },
  {
   "cell_type": "code",
   "execution_count": 143,
   "id": "5c0b1ba1-00b3-4844-a44e-bec9702cfdbe",
   "metadata": {},
   "outputs": [
    {
     "name": "stdout",
     "output_type": "stream",
     "text": [
      "**Author**: Dr. Hans Hofmann  \n",
      "**Source**: [UCI](https://archive.ics.uci.edu/ml/datasets/statlog+(german+credit+data)) - 1994    \n",
      "**Please cite**: [UCI](https://archive.ics.uci.edu/ml/citation_policy.html)\n",
      "\n",
      "**German Credit dataset**  \n",
      "This dataset classifies people described by a set of attributes as good or bad credit risks.\n",
      "\n",
      "This dataset comes with a cost matrix: \n",
      "``` \n",
      "Good  Bad (predicted)  \n",
      "Good   0    1   (actual)  \n",
      "Bad    5    0  \n",
      "```\n",
      "\n",
      "It is worse to class a customer as good when they are bad (5), than it is to class a customer as bad when they are good (1).  \n",
      "\n",
      "### Attribute description  \n",
      "\n",
      "1. Status of existing checking account, in Deutsche Mark.  \n",
      "2. Duration in months  \n",
      "3. Credit history (credits taken, paid back duly, delays, critical accounts)  \n",
      "4. Purpose of the credit (car, television,...)  \n",
      "5. Credit amount  \n",
      "6. Status of savings account/bonds, in Deutsche Mark.  \n",
      "7. Present employment, in number of years.  \n",
      "8. Installment rate in percentage of disposable income  \n",
      "9. Personal status (married, single,...) and sex  \n",
      "10. Other debtors / guarantors  \n",
      "11. Present residence since X years  \n",
      "12. Property (e.g. real estate)  \n",
      "13. Age in years  \n",
      "14. Other installment plans (banks, stores)  \n",
      "15. Housing (rent, own,...)  \n",
      "16. Number of existing credits at this bank  \n",
      "17. Job  \n",
      "18. Number of people being liable to provide maintenance for  \n",
      "19. Telephone (yes,no)  \n",
      "20. Foreign worker (yes,no)\n",
      "\n",
      "Downloaded from openml.org.\n"
     ]
    }
   ],
   "source": [
    "print(df['DESCR'])"
   ]
  },
  {
   "cell_type": "code",
   "execution_count": 144,
   "id": "bf71bf3f-226d-4e1b-af06-a8a8eb6ce50e",
   "metadata": {},
   "outputs": [
    {
     "data": {
      "text/plain": [
       "purpose\n",
       "radio/tv               280\n",
       "new car                234\n",
       "furniture/equipment    181\n",
       "used car               103\n",
       "business                97\n",
       "education               50\n",
       "repairs                 22\n",
       "domestic appliance      12\n",
       "other                   12\n",
       "retraining               9\n",
       "Name: count, dtype: int64"
      ]
     },
     "execution_count": 144,
     "metadata": {},
     "output_type": "execute_result"
    }
   ],
   "source": [
    "df['data']['purpose'].value_counts()"
   ]
  },
  {
   "cell_type": "code",
   "execution_count": 145,
   "id": "4f937ef5-e556-4510-b836-8a3e58cac698",
   "metadata": {},
   "outputs": [
    {
     "data": {
      "text/html": [
       "<div>\n",
       "<style scoped>\n",
       "    .dataframe tbody tr th:only-of-type {\n",
       "        vertical-align: middle;\n",
       "    }\n",
       "\n",
       "    .dataframe tbody tr th {\n",
       "        vertical-align: top;\n",
       "    }\n",
       "\n",
       "    .dataframe thead th {\n",
       "        text-align: right;\n",
       "    }\n",
       "</style>\n",
       "<table border=\"1\" class=\"dataframe\">\n",
       "  <thead>\n",
       "    <tr style=\"text-align: right;\">\n",
       "      <th></th>\n",
       "      <th>checking_status</th>\n",
       "      <th>duration</th>\n",
       "      <th>credit_history</th>\n",
       "      <th>purpose</th>\n",
       "      <th>credit_amount</th>\n",
       "      <th>savings_status</th>\n",
       "      <th>employment</th>\n",
       "      <th>installment_commitment</th>\n",
       "      <th>personal_status</th>\n",
       "      <th>other_parties</th>\n",
       "      <th>residence_since</th>\n",
       "      <th>property_magnitude</th>\n",
       "      <th>age</th>\n",
       "      <th>other_payment_plans</th>\n",
       "      <th>housing</th>\n",
       "      <th>existing_credits</th>\n",
       "      <th>job</th>\n",
       "      <th>num_dependents</th>\n",
       "      <th>own_telephone</th>\n",
       "      <th>foreign_worker</th>\n",
       "    </tr>\n",
       "  </thead>\n",
       "  <tbody>\n",
       "    <tr>\n",
       "      <th>0</th>\n",
       "      <td>&lt;0</td>\n",
       "      <td>6</td>\n",
       "      <td>critical/other existing credit</td>\n",
       "      <td>radio/tv</td>\n",
       "      <td>1169.0</td>\n",
       "      <td>no known savings</td>\n",
       "      <td>&gt;=7</td>\n",
       "      <td>4</td>\n",
       "      <td>male single</td>\n",
       "      <td>none</td>\n",
       "      <td>4</td>\n",
       "      <td>real estate</td>\n",
       "      <td>67</td>\n",
       "      <td>none</td>\n",
       "      <td>own</td>\n",
       "      <td>2</td>\n",
       "      <td>skilled</td>\n",
       "      <td>1</td>\n",
       "      <td>yes</td>\n",
       "      <td>yes</td>\n",
       "    </tr>\n",
       "    <tr>\n",
       "      <th>1</th>\n",
       "      <td>0&lt;=X&lt;200</td>\n",
       "      <td>48</td>\n",
       "      <td>existing paid</td>\n",
       "      <td>radio/tv</td>\n",
       "      <td>5951.0</td>\n",
       "      <td>&lt;100</td>\n",
       "      <td>1&lt;=X&lt;4</td>\n",
       "      <td>2</td>\n",
       "      <td>female div/dep/mar</td>\n",
       "      <td>none</td>\n",
       "      <td>2</td>\n",
       "      <td>real estate</td>\n",
       "      <td>22</td>\n",
       "      <td>none</td>\n",
       "      <td>own</td>\n",
       "      <td>1</td>\n",
       "      <td>skilled</td>\n",
       "      <td>1</td>\n",
       "      <td>none</td>\n",
       "      <td>yes</td>\n",
       "    </tr>\n",
       "    <tr>\n",
       "      <th>2</th>\n",
       "      <td>no checking</td>\n",
       "      <td>12</td>\n",
       "      <td>critical/other existing credit</td>\n",
       "      <td>education</td>\n",
       "      <td>2096.0</td>\n",
       "      <td>&lt;100</td>\n",
       "      <td>4&lt;=X&lt;7</td>\n",
       "      <td>2</td>\n",
       "      <td>male single</td>\n",
       "      <td>none</td>\n",
       "      <td>3</td>\n",
       "      <td>real estate</td>\n",
       "      <td>49</td>\n",
       "      <td>none</td>\n",
       "      <td>own</td>\n",
       "      <td>1</td>\n",
       "      <td>unskilled resident</td>\n",
       "      <td>2</td>\n",
       "      <td>none</td>\n",
       "      <td>yes</td>\n",
       "    </tr>\n",
       "    <tr>\n",
       "      <th>3</th>\n",
       "      <td>&lt;0</td>\n",
       "      <td>42</td>\n",
       "      <td>existing paid</td>\n",
       "      <td>furniture/equipment</td>\n",
       "      <td>7882.0</td>\n",
       "      <td>&lt;100</td>\n",
       "      <td>4&lt;=X&lt;7</td>\n",
       "      <td>2</td>\n",
       "      <td>male single</td>\n",
       "      <td>guarantor</td>\n",
       "      <td>4</td>\n",
       "      <td>life insurance</td>\n",
       "      <td>45</td>\n",
       "      <td>none</td>\n",
       "      <td>for free</td>\n",
       "      <td>1</td>\n",
       "      <td>skilled</td>\n",
       "      <td>2</td>\n",
       "      <td>none</td>\n",
       "      <td>yes</td>\n",
       "    </tr>\n",
       "    <tr>\n",
       "      <th>4</th>\n",
       "      <td>&lt;0</td>\n",
       "      <td>24</td>\n",
       "      <td>delayed previously</td>\n",
       "      <td>new car</td>\n",
       "      <td>4870.0</td>\n",
       "      <td>&lt;100</td>\n",
       "      <td>1&lt;=X&lt;4</td>\n",
       "      <td>3</td>\n",
       "      <td>male single</td>\n",
       "      <td>none</td>\n",
       "      <td>4</td>\n",
       "      <td>no known property</td>\n",
       "      <td>53</td>\n",
       "      <td>none</td>\n",
       "      <td>for free</td>\n",
       "      <td>2</td>\n",
       "      <td>skilled</td>\n",
       "      <td>2</td>\n",
       "      <td>none</td>\n",
       "      <td>yes</td>\n",
       "    </tr>\n",
       "    <tr>\n",
       "      <th>...</th>\n",
       "      <td>...</td>\n",
       "      <td>...</td>\n",
       "      <td>...</td>\n",
       "      <td>...</td>\n",
       "      <td>...</td>\n",
       "      <td>...</td>\n",
       "      <td>...</td>\n",
       "      <td>...</td>\n",
       "      <td>...</td>\n",
       "      <td>...</td>\n",
       "      <td>...</td>\n",
       "      <td>...</td>\n",
       "      <td>...</td>\n",
       "      <td>...</td>\n",
       "      <td>...</td>\n",
       "      <td>...</td>\n",
       "      <td>...</td>\n",
       "      <td>...</td>\n",
       "      <td>...</td>\n",
       "      <td>...</td>\n",
       "    </tr>\n",
       "    <tr>\n",
       "      <th>995</th>\n",
       "      <td>no checking</td>\n",
       "      <td>12</td>\n",
       "      <td>existing paid</td>\n",
       "      <td>furniture/equipment</td>\n",
       "      <td>1736.0</td>\n",
       "      <td>&lt;100</td>\n",
       "      <td>4&lt;=X&lt;7</td>\n",
       "      <td>3</td>\n",
       "      <td>female div/dep/mar</td>\n",
       "      <td>none</td>\n",
       "      <td>4</td>\n",
       "      <td>real estate</td>\n",
       "      <td>31</td>\n",
       "      <td>none</td>\n",
       "      <td>own</td>\n",
       "      <td>1</td>\n",
       "      <td>unskilled resident</td>\n",
       "      <td>1</td>\n",
       "      <td>none</td>\n",
       "      <td>yes</td>\n",
       "    </tr>\n",
       "    <tr>\n",
       "      <th>996</th>\n",
       "      <td>&lt;0</td>\n",
       "      <td>30</td>\n",
       "      <td>existing paid</td>\n",
       "      <td>used car</td>\n",
       "      <td>3857.0</td>\n",
       "      <td>&lt;100</td>\n",
       "      <td>1&lt;=X&lt;4</td>\n",
       "      <td>4</td>\n",
       "      <td>male div/sep</td>\n",
       "      <td>none</td>\n",
       "      <td>4</td>\n",
       "      <td>life insurance</td>\n",
       "      <td>40</td>\n",
       "      <td>none</td>\n",
       "      <td>own</td>\n",
       "      <td>1</td>\n",
       "      <td>high qualif/self emp/mgmt</td>\n",
       "      <td>1</td>\n",
       "      <td>yes</td>\n",
       "      <td>yes</td>\n",
       "    </tr>\n",
       "    <tr>\n",
       "      <th>997</th>\n",
       "      <td>no checking</td>\n",
       "      <td>12</td>\n",
       "      <td>existing paid</td>\n",
       "      <td>radio/tv</td>\n",
       "      <td>804.0</td>\n",
       "      <td>&lt;100</td>\n",
       "      <td>&gt;=7</td>\n",
       "      <td>4</td>\n",
       "      <td>male single</td>\n",
       "      <td>none</td>\n",
       "      <td>4</td>\n",
       "      <td>car</td>\n",
       "      <td>38</td>\n",
       "      <td>none</td>\n",
       "      <td>own</td>\n",
       "      <td>1</td>\n",
       "      <td>skilled</td>\n",
       "      <td>1</td>\n",
       "      <td>none</td>\n",
       "      <td>yes</td>\n",
       "    </tr>\n",
       "    <tr>\n",
       "      <th>998</th>\n",
       "      <td>&lt;0</td>\n",
       "      <td>45</td>\n",
       "      <td>existing paid</td>\n",
       "      <td>radio/tv</td>\n",
       "      <td>1845.0</td>\n",
       "      <td>&lt;100</td>\n",
       "      <td>1&lt;=X&lt;4</td>\n",
       "      <td>4</td>\n",
       "      <td>male single</td>\n",
       "      <td>none</td>\n",
       "      <td>4</td>\n",
       "      <td>no known property</td>\n",
       "      <td>23</td>\n",
       "      <td>none</td>\n",
       "      <td>for free</td>\n",
       "      <td>1</td>\n",
       "      <td>skilled</td>\n",
       "      <td>1</td>\n",
       "      <td>yes</td>\n",
       "      <td>yes</td>\n",
       "    </tr>\n",
       "    <tr>\n",
       "      <th>999</th>\n",
       "      <td>0&lt;=X&lt;200</td>\n",
       "      <td>45</td>\n",
       "      <td>critical/other existing credit</td>\n",
       "      <td>used car</td>\n",
       "      <td>4576.0</td>\n",
       "      <td>100&lt;=X&lt;500</td>\n",
       "      <td>unemployed</td>\n",
       "      <td>3</td>\n",
       "      <td>male single</td>\n",
       "      <td>none</td>\n",
       "      <td>4</td>\n",
       "      <td>car</td>\n",
       "      <td>27</td>\n",
       "      <td>none</td>\n",
       "      <td>own</td>\n",
       "      <td>1</td>\n",
       "      <td>skilled</td>\n",
       "      <td>1</td>\n",
       "      <td>none</td>\n",
       "      <td>yes</td>\n",
       "    </tr>\n",
       "  </tbody>\n",
       "</table>\n",
       "<p>1000 rows × 20 columns</p>\n",
       "</div>"
      ],
      "text/plain": [
       "    checking_status  duration                  credit_history  \\\n",
       "0                <0         6  critical/other existing credit   \n",
       "1          0<=X<200        48                   existing paid   \n",
       "2       no checking        12  critical/other existing credit   \n",
       "3                <0        42                   existing paid   \n",
       "4                <0        24              delayed previously   \n",
       "..              ...       ...                             ...   \n",
       "995     no checking        12                   existing paid   \n",
       "996              <0        30                   existing paid   \n",
       "997     no checking        12                   existing paid   \n",
       "998              <0        45                   existing paid   \n",
       "999        0<=X<200        45  critical/other existing credit   \n",
       "\n",
       "                 purpose  credit_amount    savings_status  employment  \\\n",
       "0               radio/tv         1169.0  no known savings         >=7   \n",
       "1               radio/tv         5951.0              <100      1<=X<4   \n",
       "2              education         2096.0              <100      4<=X<7   \n",
       "3    furniture/equipment         7882.0              <100      4<=X<7   \n",
       "4                new car         4870.0              <100      1<=X<4   \n",
       "..                   ...            ...               ...         ...   \n",
       "995  furniture/equipment         1736.0              <100      4<=X<7   \n",
       "996             used car         3857.0              <100      1<=X<4   \n",
       "997             radio/tv          804.0              <100         >=7   \n",
       "998             radio/tv         1845.0              <100      1<=X<4   \n",
       "999             used car         4576.0        100<=X<500  unemployed   \n",
       "\n",
       "     installment_commitment     personal_status other_parties  \\\n",
       "0                         4         male single          none   \n",
       "1                         2  female div/dep/mar          none   \n",
       "2                         2         male single          none   \n",
       "3                         2         male single     guarantor   \n",
       "4                         3         male single          none   \n",
       "..                      ...                 ...           ...   \n",
       "995                       3  female div/dep/mar          none   \n",
       "996                       4        male div/sep          none   \n",
       "997                       4         male single          none   \n",
       "998                       4         male single          none   \n",
       "999                       3         male single          none   \n",
       "\n",
       "     residence_since property_magnitude  age other_payment_plans   housing  \\\n",
       "0                  4        real estate   67                none       own   \n",
       "1                  2        real estate   22                none       own   \n",
       "2                  3        real estate   49                none       own   \n",
       "3                  4     life insurance   45                none  for free   \n",
       "4                  4  no known property   53                none  for free   \n",
       "..               ...                ...  ...                 ...       ...   \n",
       "995                4        real estate   31                none       own   \n",
       "996                4     life insurance   40                none       own   \n",
       "997                4                car   38                none       own   \n",
       "998                4  no known property   23                none  for free   \n",
       "999                4                car   27                none       own   \n",
       "\n",
       "     existing_credits                        job  num_dependents  \\\n",
       "0                   2                    skilled               1   \n",
       "1                   1                    skilled               1   \n",
       "2                   1         unskilled resident               2   \n",
       "3                   1                    skilled               2   \n",
       "4                   2                    skilled               2   \n",
       "..                ...                        ...             ...   \n",
       "995                 1         unskilled resident               1   \n",
       "996                 1  high qualif/self emp/mgmt               1   \n",
       "997                 1                    skilled               1   \n",
       "998                 1                    skilled               1   \n",
       "999                 1                    skilled               1   \n",
       "\n",
       "    own_telephone foreign_worker  \n",
       "0             yes            yes  \n",
       "1            none            yes  \n",
       "2            none            yes  \n",
       "3            none            yes  \n",
       "4            none            yes  \n",
       "..            ...            ...  \n",
       "995          none            yes  \n",
       "996           yes            yes  \n",
       "997          none            yes  \n",
       "998           yes            yes  \n",
       "999          none            yes  \n",
       "\n",
       "[1000 rows x 20 columns]"
      ]
     },
     "execution_count": 145,
     "metadata": {},
     "output_type": "execute_result"
    }
   ],
   "source": [
    "df['data']"
   ]
  },
  {
   "cell_type": "code",
   "execution_count": 146,
   "id": "55034662-9043-4e63-8c63-6817af585b39",
   "metadata": {},
   "outputs": [
    {
     "data": {
      "text/plain": [
       "other_parties\n",
       "none            907\n",
       "guarantor        52\n",
       "co applicant     41\n",
       "Name: count, dtype: int64"
      ]
     },
     "execution_count": 146,
     "metadata": {},
     "output_type": "execute_result"
    }
   ],
   "source": [
    "df['data']['other_parties'].value_counts()"
   ]
  },
  {
   "cell_type": "code",
   "execution_count": 147,
   "id": "38f05009-c4a4-4175-a456-fe12b8fd22f3",
   "metadata": {},
   "outputs": [],
   "source": [
    "from sklearn.ensemble import RandomForestClassifier"
   ]
  },
  {
   "cell_type": "code",
   "execution_count": 148,
   "id": "f6403a91-3256-4b28-9982-fa2765e2ed51",
   "metadata": {},
   "outputs": [],
   "source": [
    "rndclf = RandomForestClassifier()"
   ]
  },
  {
   "cell_type": "code",
   "execution_count": 149,
   "id": "c9a650bd-4dd0-464f-9eaf-1a1b234e76a7",
   "metadata": {},
   "outputs": [],
   "source": [
    "from sklearn.model_selection import train_test_split"
   ]
  },
  {
   "cell_type": "code",
   "execution_count": 150,
   "id": "307f0513-7cc1-4998-8d11-9ad0d8446ba7",
   "metadata": {},
   "outputs": [],
   "source": [
    "X_train, X_test, y_train, y_test = train_test_split(\n",
    "...     X, y, test_size=0.33, random_state=42)"
   ]
  },
  {
   "cell_type": "markdown",
   "id": "a94c43b1-2fbc-423a-83b5-897b869d3ef5",
   "metadata": {},
   "source": [
    "## Work on dataframe\n",
    "\n",
    "The actual data points can't be used directly and needs to be feature engineered. So I'll be using the `frame` content. It includes all data including the `target` column. After cleaning up, I can move it to a different column.\n",
    "\n",
    "These columns needs to be corrected:\n",
    "\n",
    "* credit_history, purpose, personal_status, other_parties, property_magnitude, other_payment_plans, housing, job - one hot enc\n",
    "* checking_status, savings_status, employment,  - binning\n",
    "* num_dependents - convert type to `int`\n",
    "* own_telephone, foreign_worker, class - binary"
   ]
  },
  {
   "cell_type": "code",
   "execution_count": 261,
   "id": "de6b8cc5-5055-4d16-9ecd-d2925967d130",
   "metadata": {},
   "outputs": [],
   "source": [
    "import pandas as pd\n",
    "credit = df['frame']"
   ]
  },
  {
   "cell_type": "code",
   "execution_count": 262,
   "id": "c38ac1fc-ab7e-4570-a1fa-df949c3fb66f",
   "metadata": {},
   "outputs": [],
   "source": [
    "# one-hot encoding\n",
    "for col in ['credit_history', 'purpose', 'personal_status', 'other_parties', 'property_magnitude', 'other_payment_plans', 'housing', 'job']:\n",
    "    one_hot = pd.get_dummies(credit[col])\n",
    "    credit = pd.concat(\n",
    "        [credit.drop(col,axis=1),\n",
    "        one_hot],\n",
    "        axis=1\n",
    "    )"
   ]
  },
  {
   "cell_type": "markdown",
   "id": "9354f9a9-c134-4897-ae39-0d98b98aa3aa",
   "metadata": {},
   "source": [
    "This naive approach failed. Some of the values were `yes` and `no`. So I now have multiple columns with `yes` and `no` making it meaningless. I need to work on data a bit more.\n",
    "\n",
    "Initially I had `own_telephone` and `foreign_worker` as one-hot encoding. I had to move it to binary category. After that, the data became cleaner."
   ]
  },
  {
   "cell_type": "code",
   "execution_count": 263,
   "id": "cd138000-fabd-45e6-bf7b-6f4302ba8f47",
   "metadata": {},
   "outputs": [
    {
     "data": {
      "text/plain": [
       "['<0', '0<=X<200', 'no checking', '>=200']\n",
       "Categories (4, object): ['no checking', '0<=X<200', '<0', '>=200']"
      ]
     },
     "execution_count": 263,
     "metadata": {},
     "output_type": "execute_result"
    }
   ],
   "source": [
    "# binning\n",
    "credit['checking_status'].unique()"
   ]
  },
  {
   "cell_type": "code",
   "execution_count": 264,
   "id": "84f7e6d9-79e6-45b6-8c6e-1f5f3ecb3c74",
   "metadata": {},
   "outputs": [],
   "source": [
    "checking_bin_mapping = {\n",
    "    'no checking': 0,\n",
    "    '<0': 1,\n",
    "    '0<=X<200': 2,\n",
    "    '>=200': 3    \n",
    "}"
   ]
  },
  {
   "cell_type": "code",
   "execution_count": 265,
   "id": "ffe4446a-a40d-4a21-b716-03a9a8608dd2",
   "metadata": {},
   "outputs": [],
   "source": [
    "savings_bin_mapping = {\n",
    "    'no known savings': 0,\n",
    "    '<100': 1,\n",
    "    '100<=X<500': 3,\n",
    "    '500<=X<1000': 4,\n",
    "    '>=1000': 5\n",
    "}"
   ]
  },
  {
   "cell_type": "code",
   "execution_count": 266,
   "id": "b6ad7a57-f0d0-46dd-b227-4e75c2a8274a",
   "metadata": {},
   "outputs": [],
   "source": [
    "employment_bin_mapping = {\n",
    "    'unemployed': 0,\n",
    "    '<1': 1,\n",
    "    '1<=X<4': 2,\n",
    "    '4<=X<7': 3,\n",
    "    '>=7': 4    \n",
    "}"
   ]
  },
  {
   "cell_type": "code",
   "execution_count": 267,
   "id": "59929b8d-e8cd-4066-9cc5-9301ea839813",
   "metadata": {},
   "outputs": [],
   "source": [
    "def create_binning(data, bin_mapping):\n",
    "    return [bin_mapping[x] for x in data]"
   ]
  },
  {
   "cell_type": "code",
   "execution_count": 268,
   "id": "5effc284-85e5-4586-a414-94ce40f36092",
   "metadata": {},
   "outputs": [],
   "source": [
    "credit['checking_bin'] = create_binning(credit['checking_status'], checking_bin_mapping)\n",
    "credit['savings_bin'] = create_binning(credit['savings_status'], savings_bin_mapping)\n",
    "credit['employment_bin'] =  create_binning(credit['employment'], employment_bin_mapping)"
   ]
  },
  {
   "cell_type": "code",
   "execution_count": 269,
   "id": "23b42933-bba5-46de-9fd5-9e75c7b1943e",
   "metadata": {},
   "outputs": [],
   "source": [
    "# drop the old columns\n",
    "credit.drop(['checking_status', 'savings_status', 'employment'], axis=1, inplace=True)"
   ]
  },
  {
   "cell_type": "code",
   "execution_count": 270,
   "id": "0ac01b61-4100-48b0-baf5-2911942363a7",
   "metadata": {},
   "outputs": [
    {
     "name": "stdout",
     "output_type": "stream",
     "text": [
      "<class 'pandas.core.frame.DataFrame'>\n",
      "RangeIndex: 1000 entries, 0 to 999\n",
      "Data columns (total 49 columns):\n",
      " #   Column                          Non-Null Count  Dtype   \n",
      "---  ------                          --------------  -----   \n",
      " 0   duration                        1000 non-null   int64   \n",
      " 1   credit_amount                   1000 non-null   float64 \n",
      " 2   installment_commitment          1000 non-null   int64   \n",
      " 3   residence_since                 1000 non-null   int64   \n",
      " 4   age                             1000 non-null   int64   \n",
      " 5   existing_credits                1000 non-null   int64   \n",
      " 6   num_dependents                  1000 non-null   int64   \n",
      " 7   own_telephone                   1000 non-null   category\n",
      " 8   foreign_worker                  1000 non-null   category\n",
      " 9   class                           1000 non-null   category\n",
      " 10  all paid                        1000 non-null   bool    \n",
      " 11  critical/other existing credit  1000 non-null   bool    \n",
      " 12  delayed previously              1000 non-null   bool    \n",
      " 13  existing paid                   1000 non-null   bool    \n",
      " 14  no credits/all paid             1000 non-null   bool    \n",
      " 15  domestic appliance              1000 non-null   bool    \n",
      " 16  new car                         1000 non-null   bool    \n",
      " 17  used car                        1000 non-null   bool    \n",
      " 18  business                        1000 non-null   bool    \n",
      " 19  education                       1000 non-null   bool    \n",
      " 20  furniture/equipment             1000 non-null   bool    \n",
      " 21  other                           1000 non-null   bool    \n",
      " 22  radio/tv                        1000 non-null   bool    \n",
      " 23  repairs                         1000 non-null   bool    \n",
      " 24  retraining                      1000 non-null   bool    \n",
      " 25  female div/dep/mar              1000 non-null   bool    \n",
      " 26  male div/sep                    1000 non-null   bool    \n",
      " 27  male mar/wid                    1000 non-null   bool    \n",
      " 28  male single                     1000 non-null   bool    \n",
      " 29  co applicant                    1000 non-null   bool    \n",
      " 30  guarantor                       1000 non-null   bool    \n",
      " 31  none                            1000 non-null   bool    \n",
      " 32  life insurance                  1000 non-null   bool    \n",
      " 33  no known property               1000 non-null   bool    \n",
      " 34  real estate                     1000 non-null   bool    \n",
      " 35  car                             1000 non-null   bool    \n",
      " 36  bank                            1000 non-null   bool    \n",
      " 37  none                            1000 non-null   bool    \n",
      " 38  stores                          1000 non-null   bool    \n",
      " 39  for free                        1000 non-null   bool    \n",
      " 40  own                             1000 non-null   bool    \n",
      " 41  rent                            1000 non-null   bool    \n",
      " 42  high qualif/self emp/mgmt       1000 non-null   bool    \n",
      " 43  unemp/unskilled non res         1000 non-null   bool    \n",
      " 44  unskilled resident              1000 non-null   bool    \n",
      " 45  skilled                         1000 non-null   bool    \n",
      " 46  checking_bin                    1000 non-null   int64   \n",
      " 47  savings_bin                     1000 non-null   int64   \n",
      " 48  employment_bin                  1000 non-null   int64   \n",
      "dtypes: bool(36), category(3), float64(1), int64(9)\n",
      "memory usage: 116.7 KB\n"
     ]
    }
   ],
   "source": [
    "credit.info()"
   ]
  },
  {
   "cell_type": "markdown",
   "id": "cea9a0b8-ccd2-459e-ac85-93103ff1a461",
   "metadata": {},
   "source": [
    "At this point, there are 3 columns - `class`, `own_telephone` and `foreign_worker` which are of type `category`. These are boolean values. So we need to convert it to bool."
   ]
  },
  {
   "cell_type": "code",
   "execution_count": 271,
   "id": "031156b5-f3af-4f4d-a870-3e62ea12ad3d",
   "metadata": {},
   "outputs": [
    {
     "data": {
      "text/plain": [
       "array([1, 2])"
      ]
     },
     "execution_count": 271,
     "metadata": {},
     "output_type": "execute_result"
    }
   ],
   "source": [
    "credit['num_dependents'].unique()"
   ]
  },
  {
   "cell_type": "code",
   "execution_count": 272,
   "id": "3f36b33a-f3ff-49b2-a26a-295fb59ef478",
   "metadata": {},
   "outputs": [
    {
     "data": {
      "text/plain": [
       "['yes', 'none']\n",
       "Categories (2, object): ['none', 'yes']"
      ]
     },
     "execution_count": 272,
     "metadata": {},
     "output_type": "execute_result"
    }
   ],
   "source": [
    "credit['own_telephone'].unique()"
   ]
  },
  {
   "cell_type": "code",
   "execution_count": 273,
   "id": "5e553856-dc4e-435a-8a7a-28fe7f00b233",
   "metadata": {},
   "outputs": [
    {
     "data": {
      "text/plain": [
       "['yes', 'no']\n",
       "Categories (2, object): ['no', 'yes']"
      ]
     },
     "execution_count": 273,
     "metadata": {},
     "output_type": "execute_result"
    }
   ],
   "source": [
    "credit['foreign_worker'].unique()"
   ]
  },
  {
   "cell_type": "code",
   "execution_count": 274,
   "id": "96db67d5-7de1-4a8b-adef-dc1025c3a17a",
   "metadata": {},
   "outputs": [
    {
     "data": {
      "text/plain": [
       "['good', 'bad']\n",
       "Categories (2, object): ['bad', 'good']"
      ]
     },
     "execution_count": 274,
     "metadata": {},
     "output_type": "execute_result"
    }
   ],
   "source": [
    "credit['class'].unique()"
   ]
  },
  {
   "cell_type": "code",
   "execution_count": 275,
   "id": "a47118e2-e738-4606-9c48-1a14ad3b9cdd",
   "metadata": {},
   "outputs": [],
   "source": [
    "# convert to int\n",
    "credit['num_dependents'] = credit['num_dependents'].astype('int32')"
   ]
  },
  {
   "cell_type": "code",
   "execution_count": 276,
   "id": "2cf9d0c8-7329-4c64-8930-aa1c0d50439a",
   "metadata": {},
   "outputs": [],
   "source": [
    "# convert to bool\n",
    "credit['own_telephone'] = credit['own_telephone'].map({ 'yes': True, 'none': False})\n",
    "credit['own_telephone'] = credit['own_telephone'].astype('bool')"
   ]
  },
  {
   "cell_type": "code",
   "execution_count": 277,
   "id": "7f882d99-e1ca-4b6b-940f-3365922395b7",
   "metadata": {},
   "outputs": [],
   "source": [
    "# convert to bool\n",
    "credit['foreign_worker'] = credit['foreign_worker'].map({ 'yes': True, 'no': False})\n",
    "credit['foreign_worker'] = credit['foreign_worker'].astype('bool')"
   ]
  },
  {
   "cell_type": "code",
   "execution_count": 278,
   "id": "ae0d6ddc-1bde-4ccb-8a25-1c7ddcc8816d",
   "metadata": {},
   "outputs": [],
   "source": [
    "# convert to bool\n",
    "credit['class'] = credit['class'].map({ 'good': True, 'bad': False})\n",
    "credit['class'] = credit['class'].astype('bool')"
   ]
  },
  {
   "cell_type": "code",
   "execution_count": null,
   "id": "faf23657-b922-4a37-9f7e-c6165c3b37e6",
   "metadata": {},
   "outputs": [],
   "source": []
  },
  {
   "cell_type": "code",
   "execution_count": 279,
   "id": "15c8e6ae-feae-4435-8393-04bce9cfaecb",
   "metadata": {},
   "outputs": [
    {
     "name": "stdout",
     "output_type": "stream",
     "text": [
      "<class 'pandas.core.frame.DataFrame'>\n",
      "RangeIndex: 1000 entries, 0 to 999\n",
      "Data columns (total 49 columns):\n",
      " #   Column                          Non-Null Count  Dtype  \n",
      "---  ------                          --------------  -----  \n",
      " 0   duration                        1000 non-null   int64  \n",
      " 1   credit_amount                   1000 non-null   float64\n",
      " 2   installment_commitment          1000 non-null   int64  \n",
      " 3   residence_since                 1000 non-null   int64  \n",
      " 4   age                             1000 non-null   int64  \n",
      " 5   existing_credits                1000 non-null   int64  \n",
      " 6   num_dependents                  1000 non-null   int32  \n",
      " 7   own_telephone                   1000 non-null   bool   \n",
      " 8   foreign_worker                  1000 non-null   bool   \n",
      " 9   class                           1000 non-null   bool   \n",
      " 10  all paid                        1000 non-null   bool   \n",
      " 11  critical/other existing credit  1000 non-null   bool   \n",
      " 12  delayed previously              1000 non-null   bool   \n",
      " 13  existing paid                   1000 non-null   bool   \n",
      " 14  no credits/all paid             1000 non-null   bool   \n",
      " 15  domestic appliance              1000 non-null   bool   \n",
      " 16  new car                         1000 non-null   bool   \n",
      " 17  used car                        1000 non-null   bool   \n",
      " 18  business                        1000 non-null   bool   \n",
      " 19  education                       1000 non-null   bool   \n",
      " 20  furniture/equipment             1000 non-null   bool   \n",
      " 21  other                           1000 non-null   bool   \n",
      " 22  radio/tv                        1000 non-null   bool   \n",
      " 23  repairs                         1000 non-null   bool   \n",
      " 24  retraining                      1000 non-null   bool   \n",
      " 25  female div/dep/mar              1000 non-null   bool   \n",
      " 26  male div/sep                    1000 non-null   bool   \n",
      " 27  male mar/wid                    1000 non-null   bool   \n",
      " 28  male single                     1000 non-null   bool   \n",
      " 29  co applicant                    1000 non-null   bool   \n",
      " 30  guarantor                       1000 non-null   bool   \n",
      " 31  none                            1000 non-null   bool   \n",
      " 32  life insurance                  1000 non-null   bool   \n",
      " 33  no known property               1000 non-null   bool   \n",
      " 34  real estate                     1000 non-null   bool   \n",
      " 35  car                             1000 non-null   bool   \n",
      " 36  bank                            1000 non-null   bool   \n",
      " 37  none                            1000 non-null   bool   \n",
      " 38  stores                          1000 non-null   bool   \n",
      " 39  for free                        1000 non-null   bool   \n",
      " 40  own                             1000 non-null   bool   \n",
      " 41  rent                            1000 non-null   bool   \n",
      " 42  high qualif/self emp/mgmt       1000 non-null   bool   \n",
      " 43  unemp/unskilled non res         1000 non-null   bool   \n",
      " 44  unskilled resident              1000 non-null   bool   \n",
      " 45  skilled                         1000 non-null   bool   \n",
      " 46  checking_bin                    1000 non-null   int64  \n",
      " 47  savings_bin                     1000 non-null   int64  \n",
      " 48  employment_bin                  1000 non-null   int64  \n",
      "dtypes: bool(39), float64(1), int32(1), int64(8)\n",
      "memory usage: 112.4 KB\n"
     ]
    }
   ],
   "source": [
    "credit.info()"
   ]
  },
  {
   "cell_type": "markdown",
   "id": "1c668a36-bd6a-4748-a2c0-4897ff6c647b",
   "metadata": {},
   "source": [
    "We now have a clean dataset. Now, convert this to an `ndarray` so that it can used for training."
   ]
  },
  {
   "cell_type": "code",
   "execution_count": 280,
   "id": "b79d9440-8d90-431f-82b2-0857afc50ff4",
   "metadata": {},
   "outputs": [],
   "source": [
    "X = credit.drop('class', axis=1).values"
   ]
  },
  {
   "cell_type": "code",
   "execution_count": 281,
   "id": "a1760842-96dd-4e25-9e47-fb690eed9f69",
   "metadata": {},
   "outputs": [],
   "source": [
    "y = credit['class'].values"
   ]
  },
  {
   "cell_type": "code",
   "execution_count": 282,
   "id": "2f0f0985-4cc4-4fe4-a3d0-a4e7988625da",
   "metadata": {},
   "outputs": [],
   "source": [
    "# now retry the randomforest classifier"
   ]
  },
  {
   "cell_type": "code",
   "execution_count": 283,
   "id": "f80db29e-c35f-427d-9e13-a0130cc6b71b",
   "metadata": {},
   "outputs": [],
   "source": [
    "X_train, X_test, y_train, y_test = train_test_split(\n",
    "...     X, y, test_size=0.33, random_state=42)"
   ]
  },
  {
   "cell_type": "code",
   "execution_count": 284,
   "id": "3e9da646-7d04-4ce8-a8c0-cac7c2f197bd",
   "metadata": {},
   "outputs": [
    {
     "data": {
      "text/html": [
       "<style>#sk-container-id-3 {\n",
       "  /* Definition of color scheme common for light and dark mode */\n",
       "  --sklearn-color-text: #000;\n",
       "  --sklearn-color-text-muted: #666;\n",
       "  --sklearn-color-line: gray;\n",
       "  /* Definition of color scheme for unfitted estimators */\n",
       "  --sklearn-color-unfitted-level-0: #fff5e6;\n",
       "  --sklearn-color-unfitted-level-1: #f6e4d2;\n",
       "  --sklearn-color-unfitted-level-2: #ffe0b3;\n",
       "  --sklearn-color-unfitted-level-3: chocolate;\n",
       "  /* Definition of color scheme for fitted estimators */\n",
       "  --sklearn-color-fitted-level-0: #f0f8ff;\n",
       "  --sklearn-color-fitted-level-1: #d4ebff;\n",
       "  --sklearn-color-fitted-level-2: #b3dbfd;\n",
       "  --sklearn-color-fitted-level-3: cornflowerblue;\n",
       "\n",
       "  /* Specific color for light theme */\n",
       "  --sklearn-color-text-on-default-background: var(--sg-text-color, var(--theme-code-foreground, var(--jp-content-font-color1, black)));\n",
       "  --sklearn-color-background: var(--sg-background-color, var(--theme-background, var(--jp-layout-color0, white)));\n",
       "  --sklearn-color-border-box: var(--sg-text-color, var(--theme-code-foreground, var(--jp-content-font-color1, black)));\n",
       "  --sklearn-color-icon: #696969;\n",
       "\n",
       "  @media (prefers-color-scheme: dark) {\n",
       "    /* Redefinition of color scheme for dark theme */\n",
       "    --sklearn-color-text-on-default-background: var(--sg-text-color, var(--theme-code-foreground, var(--jp-content-font-color1, white)));\n",
       "    --sklearn-color-background: var(--sg-background-color, var(--theme-background, var(--jp-layout-color0, #111)));\n",
       "    --sklearn-color-border-box: var(--sg-text-color, var(--theme-code-foreground, var(--jp-content-font-color1, white)));\n",
       "    --sklearn-color-icon: #878787;\n",
       "  }\n",
       "}\n",
       "\n",
       "#sk-container-id-3 {\n",
       "  color: var(--sklearn-color-text);\n",
       "}\n",
       "\n",
       "#sk-container-id-3 pre {\n",
       "  padding: 0;\n",
       "}\n",
       "\n",
       "#sk-container-id-3 input.sk-hidden--visually {\n",
       "  border: 0;\n",
       "  clip: rect(1px 1px 1px 1px);\n",
       "  clip: rect(1px, 1px, 1px, 1px);\n",
       "  height: 1px;\n",
       "  margin: -1px;\n",
       "  overflow: hidden;\n",
       "  padding: 0;\n",
       "  position: absolute;\n",
       "  width: 1px;\n",
       "}\n",
       "\n",
       "#sk-container-id-3 div.sk-dashed-wrapped {\n",
       "  border: 1px dashed var(--sklearn-color-line);\n",
       "  margin: 0 0.4em 0.5em 0.4em;\n",
       "  box-sizing: border-box;\n",
       "  padding-bottom: 0.4em;\n",
       "  background-color: var(--sklearn-color-background);\n",
       "}\n",
       "\n",
       "#sk-container-id-3 div.sk-container {\n",
       "  /* jupyter's `normalize.less` sets `[hidden] { display: none; }`\n",
       "     but bootstrap.min.css set `[hidden] { display: none !important; }`\n",
       "     so we also need the `!important` here to be able to override the\n",
       "     default hidden behavior on the sphinx rendered scikit-learn.org.\n",
       "     See: https://github.com/scikit-learn/scikit-learn/issues/21755 */\n",
       "  display: inline-block !important;\n",
       "  position: relative;\n",
       "}\n",
       "\n",
       "#sk-container-id-3 div.sk-text-repr-fallback {\n",
       "  display: none;\n",
       "}\n",
       "\n",
       "div.sk-parallel-item,\n",
       "div.sk-serial,\n",
       "div.sk-item {\n",
       "  /* draw centered vertical line to link estimators */\n",
       "  background-image: linear-gradient(var(--sklearn-color-text-on-default-background), var(--sklearn-color-text-on-default-background));\n",
       "  background-size: 2px 100%;\n",
       "  background-repeat: no-repeat;\n",
       "  background-position: center center;\n",
       "}\n",
       "\n",
       "/* Parallel-specific style estimator block */\n",
       "\n",
       "#sk-container-id-3 div.sk-parallel-item::after {\n",
       "  content: \"\";\n",
       "  width: 100%;\n",
       "  border-bottom: 2px solid var(--sklearn-color-text-on-default-background);\n",
       "  flex-grow: 1;\n",
       "}\n",
       "\n",
       "#sk-container-id-3 div.sk-parallel {\n",
       "  display: flex;\n",
       "  align-items: stretch;\n",
       "  justify-content: center;\n",
       "  background-color: var(--sklearn-color-background);\n",
       "  position: relative;\n",
       "}\n",
       "\n",
       "#sk-container-id-3 div.sk-parallel-item {\n",
       "  display: flex;\n",
       "  flex-direction: column;\n",
       "}\n",
       "\n",
       "#sk-container-id-3 div.sk-parallel-item:first-child::after {\n",
       "  align-self: flex-end;\n",
       "  width: 50%;\n",
       "}\n",
       "\n",
       "#sk-container-id-3 div.sk-parallel-item:last-child::after {\n",
       "  align-self: flex-start;\n",
       "  width: 50%;\n",
       "}\n",
       "\n",
       "#sk-container-id-3 div.sk-parallel-item:only-child::after {\n",
       "  width: 0;\n",
       "}\n",
       "\n",
       "/* Serial-specific style estimator block */\n",
       "\n",
       "#sk-container-id-3 div.sk-serial {\n",
       "  display: flex;\n",
       "  flex-direction: column;\n",
       "  align-items: center;\n",
       "  background-color: var(--sklearn-color-background);\n",
       "  padding-right: 1em;\n",
       "  padding-left: 1em;\n",
       "}\n",
       "\n",
       "\n",
       "/* Toggleable style: style used for estimator/Pipeline/ColumnTransformer box that is\n",
       "clickable and can be expanded/collapsed.\n",
       "- Pipeline and ColumnTransformer use this feature and define the default style\n",
       "- Estimators will overwrite some part of the style using the `sk-estimator` class\n",
       "*/\n",
       "\n",
       "/* Pipeline and ColumnTransformer style (default) */\n",
       "\n",
       "#sk-container-id-3 div.sk-toggleable {\n",
       "  /* Default theme specific background. It is overwritten whether we have a\n",
       "  specific estimator or a Pipeline/ColumnTransformer */\n",
       "  background-color: var(--sklearn-color-background);\n",
       "}\n",
       "\n",
       "/* Toggleable label */\n",
       "#sk-container-id-3 label.sk-toggleable__label {\n",
       "  cursor: pointer;\n",
       "  display: flex;\n",
       "  width: 100%;\n",
       "  margin-bottom: 0;\n",
       "  padding: 0.5em;\n",
       "  box-sizing: border-box;\n",
       "  text-align: center;\n",
       "  align-items: start;\n",
       "  justify-content: space-between;\n",
       "  gap: 0.5em;\n",
       "}\n",
       "\n",
       "#sk-container-id-3 label.sk-toggleable__label .caption {\n",
       "  font-size: 0.6rem;\n",
       "  font-weight: lighter;\n",
       "  color: var(--sklearn-color-text-muted);\n",
       "}\n",
       "\n",
       "#sk-container-id-3 label.sk-toggleable__label-arrow:before {\n",
       "  /* Arrow on the left of the label */\n",
       "  content: \"▸\";\n",
       "  float: left;\n",
       "  margin-right: 0.25em;\n",
       "  color: var(--sklearn-color-icon);\n",
       "}\n",
       "\n",
       "#sk-container-id-3 label.sk-toggleable__label-arrow:hover:before {\n",
       "  color: var(--sklearn-color-text);\n",
       "}\n",
       "\n",
       "/* Toggleable content - dropdown */\n",
       "\n",
       "#sk-container-id-3 div.sk-toggleable__content {\n",
       "  max-height: 0;\n",
       "  max-width: 0;\n",
       "  overflow: hidden;\n",
       "  text-align: left;\n",
       "  /* unfitted */\n",
       "  background-color: var(--sklearn-color-unfitted-level-0);\n",
       "}\n",
       "\n",
       "#sk-container-id-3 div.sk-toggleable__content.fitted {\n",
       "  /* fitted */\n",
       "  background-color: var(--sklearn-color-fitted-level-0);\n",
       "}\n",
       "\n",
       "#sk-container-id-3 div.sk-toggleable__content pre {\n",
       "  margin: 0.2em;\n",
       "  border-radius: 0.25em;\n",
       "  color: var(--sklearn-color-text);\n",
       "  /* unfitted */\n",
       "  background-color: var(--sklearn-color-unfitted-level-0);\n",
       "}\n",
       "\n",
       "#sk-container-id-3 div.sk-toggleable__content.fitted pre {\n",
       "  /* unfitted */\n",
       "  background-color: var(--sklearn-color-fitted-level-0);\n",
       "}\n",
       "\n",
       "#sk-container-id-3 input.sk-toggleable__control:checked~div.sk-toggleable__content {\n",
       "  /* Expand drop-down */\n",
       "  max-height: 200px;\n",
       "  max-width: 100%;\n",
       "  overflow: auto;\n",
       "}\n",
       "\n",
       "#sk-container-id-3 input.sk-toggleable__control:checked~label.sk-toggleable__label-arrow:before {\n",
       "  content: \"▾\";\n",
       "}\n",
       "\n",
       "/* Pipeline/ColumnTransformer-specific style */\n",
       "\n",
       "#sk-container-id-3 div.sk-label input.sk-toggleable__control:checked~label.sk-toggleable__label {\n",
       "  color: var(--sklearn-color-text);\n",
       "  background-color: var(--sklearn-color-unfitted-level-2);\n",
       "}\n",
       "\n",
       "#sk-container-id-3 div.sk-label.fitted input.sk-toggleable__control:checked~label.sk-toggleable__label {\n",
       "  background-color: var(--sklearn-color-fitted-level-2);\n",
       "}\n",
       "\n",
       "/* Estimator-specific style */\n",
       "\n",
       "/* Colorize estimator box */\n",
       "#sk-container-id-3 div.sk-estimator input.sk-toggleable__control:checked~label.sk-toggleable__label {\n",
       "  /* unfitted */\n",
       "  background-color: var(--sklearn-color-unfitted-level-2);\n",
       "}\n",
       "\n",
       "#sk-container-id-3 div.sk-estimator.fitted input.sk-toggleable__control:checked~label.sk-toggleable__label {\n",
       "  /* fitted */\n",
       "  background-color: var(--sklearn-color-fitted-level-2);\n",
       "}\n",
       "\n",
       "#sk-container-id-3 div.sk-label label.sk-toggleable__label,\n",
       "#sk-container-id-3 div.sk-label label {\n",
       "  /* The background is the default theme color */\n",
       "  color: var(--sklearn-color-text-on-default-background);\n",
       "}\n",
       "\n",
       "/* On hover, darken the color of the background */\n",
       "#sk-container-id-3 div.sk-label:hover label.sk-toggleable__label {\n",
       "  color: var(--sklearn-color-text);\n",
       "  background-color: var(--sklearn-color-unfitted-level-2);\n",
       "}\n",
       "\n",
       "/* Label box, darken color on hover, fitted */\n",
       "#sk-container-id-3 div.sk-label.fitted:hover label.sk-toggleable__label.fitted {\n",
       "  color: var(--sklearn-color-text);\n",
       "  background-color: var(--sklearn-color-fitted-level-2);\n",
       "}\n",
       "\n",
       "/* Estimator label */\n",
       "\n",
       "#sk-container-id-3 div.sk-label label {\n",
       "  font-family: monospace;\n",
       "  font-weight: bold;\n",
       "  display: inline-block;\n",
       "  line-height: 1.2em;\n",
       "}\n",
       "\n",
       "#sk-container-id-3 div.sk-label-container {\n",
       "  text-align: center;\n",
       "}\n",
       "\n",
       "/* Estimator-specific */\n",
       "#sk-container-id-3 div.sk-estimator {\n",
       "  font-family: monospace;\n",
       "  border: 1px dotted var(--sklearn-color-border-box);\n",
       "  border-radius: 0.25em;\n",
       "  box-sizing: border-box;\n",
       "  margin-bottom: 0.5em;\n",
       "  /* unfitted */\n",
       "  background-color: var(--sklearn-color-unfitted-level-0);\n",
       "}\n",
       "\n",
       "#sk-container-id-3 div.sk-estimator.fitted {\n",
       "  /* fitted */\n",
       "  background-color: var(--sklearn-color-fitted-level-0);\n",
       "}\n",
       "\n",
       "/* on hover */\n",
       "#sk-container-id-3 div.sk-estimator:hover {\n",
       "  /* unfitted */\n",
       "  background-color: var(--sklearn-color-unfitted-level-2);\n",
       "}\n",
       "\n",
       "#sk-container-id-3 div.sk-estimator.fitted:hover {\n",
       "  /* fitted */\n",
       "  background-color: var(--sklearn-color-fitted-level-2);\n",
       "}\n",
       "\n",
       "/* Specification for estimator info (e.g. \"i\" and \"?\") */\n",
       "\n",
       "/* Common style for \"i\" and \"?\" */\n",
       "\n",
       ".sk-estimator-doc-link,\n",
       "a:link.sk-estimator-doc-link,\n",
       "a:visited.sk-estimator-doc-link {\n",
       "  float: right;\n",
       "  font-size: smaller;\n",
       "  line-height: 1em;\n",
       "  font-family: monospace;\n",
       "  background-color: var(--sklearn-color-background);\n",
       "  border-radius: 1em;\n",
       "  height: 1em;\n",
       "  width: 1em;\n",
       "  text-decoration: none !important;\n",
       "  margin-left: 0.5em;\n",
       "  text-align: center;\n",
       "  /* unfitted */\n",
       "  border: var(--sklearn-color-unfitted-level-1) 1pt solid;\n",
       "  color: var(--sklearn-color-unfitted-level-1);\n",
       "}\n",
       "\n",
       ".sk-estimator-doc-link.fitted,\n",
       "a:link.sk-estimator-doc-link.fitted,\n",
       "a:visited.sk-estimator-doc-link.fitted {\n",
       "  /* fitted */\n",
       "  border: var(--sklearn-color-fitted-level-1) 1pt solid;\n",
       "  color: var(--sklearn-color-fitted-level-1);\n",
       "}\n",
       "\n",
       "/* On hover */\n",
       "div.sk-estimator:hover .sk-estimator-doc-link:hover,\n",
       ".sk-estimator-doc-link:hover,\n",
       "div.sk-label-container:hover .sk-estimator-doc-link:hover,\n",
       ".sk-estimator-doc-link:hover {\n",
       "  /* unfitted */\n",
       "  background-color: var(--sklearn-color-unfitted-level-3);\n",
       "  color: var(--sklearn-color-background);\n",
       "  text-decoration: none;\n",
       "}\n",
       "\n",
       "div.sk-estimator.fitted:hover .sk-estimator-doc-link.fitted:hover,\n",
       ".sk-estimator-doc-link.fitted:hover,\n",
       "div.sk-label-container:hover .sk-estimator-doc-link.fitted:hover,\n",
       ".sk-estimator-doc-link.fitted:hover {\n",
       "  /* fitted */\n",
       "  background-color: var(--sklearn-color-fitted-level-3);\n",
       "  color: var(--sklearn-color-background);\n",
       "  text-decoration: none;\n",
       "}\n",
       "\n",
       "/* Span, style for the box shown on hovering the info icon */\n",
       ".sk-estimator-doc-link span {\n",
       "  display: none;\n",
       "  z-index: 9999;\n",
       "  position: relative;\n",
       "  font-weight: normal;\n",
       "  right: .2ex;\n",
       "  padding: .5ex;\n",
       "  margin: .5ex;\n",
       "  width: min-content;\n",
       "  min-width: 20ex;\n",
       "  max-width: 50ex;\n",
       "  color: var(--sklearn-color-text);\n",
       "  box-shadow: 2pt 2pt 4pt #999;\n",
       "  /* unfitted */\n",
       "  background: var(--sklearn-color-unfitted-level-0);\n",
       "  border: .5pt solid var(--sklearn-color-unfitted-level-3);\n",
       "}\n",
       "\n",
       ".sk-estimator-doc-link.fitted span {\n",
       "  /* fitted */\n",
       "  background: var(--sklearn-color-fitted-level-0);\n",
       "  border: var(--sklearn-color-fitted-level-3);\n",
       "}\n",
       "\n",
       ".sk-estimator-doc-link:hover span {\n",
       "  display: block;\n",
       "}\n",
       "\n",
       "/* \"?\"-specific style due to the `<a>` HTML tag */\n",
       "\n",
       "#sk-container-id-3 a.estimator_doc_link {\n",
       "  float: right;\n",
       "  font-size: 1rem;\n",
       "  line-height: 1em;\n",
       "  font-family: monospace;\n",
       "  background-color: var(--sklearn-color-background);\n",
       "  border-radius: 1rem;\n",
       "  height: 1rem;\n",
       "  width: 1rem;\n",
       "  text-decoration: none;\n",
       "  /* unfitted */\n",
       "  color: var(--sklearn-color-unfitted-level-1);\n",
       "  border: var(--sklearn-color-unfitted-level-1) 1pt solid;\n",
       "}\n",
       "\n",
       "#sk-container-id-3 a.estimator_doc_link.fitted {\n",
       "  /* fitted */\n",
       "  border: var(--sklearn-color-fitted-level-1) 1pt solid;\n",
       "  color: var(--sklearn-color-fitted-level-1);\n",
       "}\n",
       "\n",
       "/* On hover */\n",
       "#sk-container-id-3 a.estimator_doc_link:hover {\n",
       "  /* unfitted */\n",
       "  background-color: var(--sklearn-color-unfitted-level-3);\n",
       "  color: var(--sklearn-color-background);\n",
       "  text-decoration: none;\n",
       "}\n",
       "\n",
       "#sk-container-id-3 a.estimator_doc_link.fitted:hover {\n",
       "  /* fitted */\n",
       "  background-color: var(--sklearn-color-fitted-level-3);\n",
       "}\n",
       "</style><div id=\"sk-container-id-3\" class=\"sk-top-container\"><div class=\"sk-text-repr-fallback\"><pre>RandomForestClassifier()</pre><b>In a Jupyter environment, please rerun this cell to show the HTML representation or trust the notebook. <br />On GitHub, the HTML representation is unable to render, please try loading this page with nbviewer.org.</b></div><div class=\"sk-container\" hidden><div class=\"sk-item\"><div class=\"sk-estimator fitted sk-toggleable\"><input class=\"sk-toggleable__control sk-hidden--visually\" id=\"sk-estimator-id-3\" type=\"checkbox\" checked><label for=\"sk-estimator-id-3\" class=\"sk-toggleable__label fitted sk-toggleable__label-arrow\"><div><div>RandomForestClassifier</div></div><div><a class=\"sk-estimator-doc-link fitted\" rel=\"noreferrer\" target=\"_blank\" href=\"https://scikit-learn.org/1.6/modules/generated/sklearn.ensemble.RandomForestClassifier.html\">?<span>Documentation for RandomForestClassifier</span></a><span class=\"sk-estimator-doc-link fitted\">i<span>Fitted</span></span></div></label><div class=\"sk-toggleable__content fitted\"><pre>RandomForestClassifier()</pre></div> </div></div></div></div>"
      ],
      "text/plain": [
       "RandomForestClassifier()"
      ]
     },
     "execution_count": 284,
     "metadata": {},
     "output_type": "execute_result"
    }
   ],
   "source": [
    "rndclf.fit(X_train, y_train)"
   ]
  },
  {
   "cell_type": "code",
   "execution_count": 285,
   "id": "c9d08500-67ac-472a-82b3-b9e805ab995d",
   "metadata": {},
   "outputs": [],
   "source": [
    "preds = rndclf.predict(X_test)"
   ]
  },
  {
   "cell_type": "code",
   "execution_count": 286,
   "id": "477a2256-dd2a-4509-a754-b12ea86ce5ad",
   "metadata": {},
   "outputs": [],
   "source": [
    "# let's get the quality of our predictions\n",
    "from sklearn.metrics import (accuracy_score, precision_score, recall_score, \n",
    "                           f1_score, confusion_matrix, classification_report,\n",
    "                           roc_auc_score, precision_recall_curve)"
   ]
  },
  {
   "cell_type": "code",
   "execution_count": 287,
   "id": "662df3ef-1dc5-48d6-8a48-679b3a49be39",
   "metadata": {},
   "outputs": [
    {
     "name": "stdout",
     "output_type": "stream",
     "text": [
      "Precision: 0.7634408602150538\n",
      "Recall: 0.9301310043668122\n"
     ]
    }
   ],
   "source": [
    "print(f\"Precision: {precision_score(y_test, y_pred=preds)}\\nRecall: {recall_score(y_test, y_pred=preds)}\")"
   ]
  },
  {
   "cell_type": "code",
   "execution_count": 288,
   "id": "16836c57-eef1-4cd8-b468-e27c57b0e0c4",
   "metadata": {},
   "outputs": [
    {
     "data": {
      "text/plain": [
       "duration                         -0.215\n",
       "credit_amount                    -0.155\n",
       "installment_commitment           -0.072\n",
       "residence_since                  -0.003\n",
       "age                               0.091\n",
       "existing_credits                  0.046\n",
       "num_dependents                    0.003\n",
       "own_telephone                     0.036\n",
       "foreign_worker                   -0.082\n",
       "class                             1.000\n",
       "all paid                         -0.134\n",
       "critical/other existing credit    0.182\n",
       "delayed previously               -0.012\n",
       "existing paid                    -0.044\n",
       "no credits/all paid              -0.145\n",
       "domestic appliance               -0.008\n",
       "new car                          -0.097\n",
       "used car                          0.100\n",
       "business                         -0.036\n",
       "education                        -0.070\n",
       "furniture/equipment              -0.021\n",
       "other                            -0.028\n",
       "radio/tv                          0.107\n",
       "repairs                          -0.021\n",
       "retraining                        0.039\n",
       "female div/dep/mar               -0.075\n",
       "male div/sep                     -0.050\n",
       "male mar/wid                      0.020\n",
       "male single                       0.081\n",
       "co applicant                     -0.063\n",
       "guarantor                         0.055\n",
       "none                              0.001\n",
       "life insurance                   -0.007\n",
       "no known property                -0.126\n",
       "real estate                       0.119\n",
       "car                              -0.011\n",
       "bank                             -0.097\n",
       "none                              0.113\n",
       "stores                           -0.051\n",
       "for free                         -0.082\n",
       "own                               0.135\n",
       "rent                             -0.093\n",
       "high qualif/self emp/mgmt        -0.041\n",
       "unemp/unskilled non res          -0.006\n",
       "unskilled resident                0.022\n",
       "skilled                           0.014\n",
       "checking_bin                     -0.198\n",
       "savings_bin                       0.046\n",
       "employment_bin                    0.116\n",
       "Name: class, dtype: float64"
      ]
     },
     "execution_count": 288,
     "metadata": {},
     "output_type": "execute_result"
    }
   ],
   "source": [
    "# let's see how each column helps.\n",
    "import numpy as np\n",
    "np.round(credit.corr()['class'], 3)"
   ]
  },
  {
   "cell_type": "raw",
   "id": "1caff21f-b6c8-4ef4-ae94-69400c644ed5",
   "metadata": {},
   "source": [
    "# let us drop columns that have a value less than +/-0.003. \n",
    "credit.drop(\n",
    "    ['residence_since', 'num_dependents', 'none', ],\n",
    "    axis=1,\n",
    "    inplace=True\n",
    ")"
   ]
  },
  {
   "cell_type": "raw",
   "id": "9016efe7-d8e5-4740-8ade-85eb65769a86",
   "metadata": {},
   "source": [
    "X = credit.drop('class', axis=1).values\n",
    "y = credit['class'].values\n",
    "X_train, X_test, y_train, y_test = train_test_split(X, y, test_size=0.33, random_state=42)\n",
    "rndclf.fit(X_train, y_train)\n",
    "preds = rndclf.predict(X_test)\n",
    "print(f\"Precision: {precision_score(y_test, y_pred=preds)}\\nRecall: {recall_score(y_test, y_pred=preds)}\")"
   ]
  },
  {
   "cell_type": "markdown",
   "id": "13e06347-479e-4643-85b7-893a67c8b608",
   "metadata": {},
   "source": [
    "Precision went down after _cleaning_ up the data. So this is not a good idea. "
   ]
  },
  {
   "cell_type": "code",
   "execution_count": 289,
   "id": "6432eeba-9c78-4c9c-8680-19379c7ced2f",
   "metadata": {},
   "outputs": [
    {
     "data": {
      "text/plain": [
       "class\n",
       "True     700\n",
       "False    300\n",
       "Name: count, dtype: int64"
      ]
     },
     "execution_count": 289,
     "metadata": {},
     "output_type": "execute_result"
    }
   ],
   "source": [
    "credit['class'].value_counts()"
   ]
  },
  {
   "cell_type": "code",
   "execution_count": 290,
   "id": "a82274d1-a0fa-48b5-87c1-a236e7560a05",
   "metadata": {},
   "outputs": [
    {
     "data": {
      "text/plain": [
       "True     471\n",
       "False    199\n",
       "Name: count, dtype: int64"
      ]
     },
     "execution_count": 290,
     "metadata": {},
     "output_type": "execute_result"
    }
   ],
   "source": [
    "pd.Series(y_train).value_counts()"
   ]
  },
  {
   "cell_type": "code",
   "execution_count": 291,
   "id": "9ae9f5ff-ddc8-424e-b64a-d9178c426c17",
   "metadata": {},
   "outputs": [
    {
     "data": {
      "text/plain": [
       "True     229\n",
       "False    101\n",
       "Name: count, dtype: int64"
      ]
     },
     "execution_count": 291,
     "metadata": {},
     "output_type": "execute_result"
    }
   ],
   "source": [
    "pd.Series(y_test).value_counts()"
   ]
  },
  {
   "cell_type": "markdown",
   "id": "cafc0a83-2cca-47ff-9a0a-18acd3bb68a5",
   "metadata": {},
   "source": [
    "Perhaps there is a class imbalance. Maybe we should oversample on \"bad\" credits? Let's try to use SMOTE"
   ]
  },
  {
   "cell_type": "code",
   "execution_count": 292,
   "id": "c02fcea0-e11c-44fd-8938-b32fb8e1df3b",
   "metadata": {},
   "outputs": [],
   "source": [
    "!pip install -q imblearn"
   ]
  },
  {
   "cell_type": "code",
   "execution_count": 293,
   "id": "13b7ed67-e3e2-4b3b-adc4-0958959e6187",
   "metadata": {},
   "outputs": [],
   "source": [
    "from imblearn.over_sampling import SMOTE"
   ]
  },
  {
   "cell_type": "code",
   "execution_count": 294,
   "id": "2e91a347-7447-41f0-a830-2ddcd3b8fa28",
   "metadata": {},
   "outputs": [],
   "source": [
    "# Create the SMOTE object\n",
    "smote = SMOTE(random_state=42)\n",
    "\n",
    "# Fit and apply SMOTE\n",
    "# X is your feature matrix, y is your target (credit column)\n",
    "X_resampled, y_resampled = smote.fit_resample(X, y)"
   ]
  },
  {
   "cell_type": "code",
   "execution_count": 295,
   "id": "c6511fed-7117-4d3a-8a04-9a7fdf2256f2",
   "metadata": {},
   "outputs": [
    {
     "name": "stdout",
     "output_type": "stream",
     "text": [
      "Original class distribution:\n",
      "True     700\n",
      "False    300\n",
      "Name: count, dtype: int64\n",
      "\n",
      "Resampled class distribution:\n",
      "True     700\n",
      "False    700\n",
      "Name: count, dtype: int64\n"
     ]
    }
   ],
   "source": [
    "# Check the new class distribution\n",
    "print(\"Original class distribution:\")\n",
    "print(pd.Series(y).value_counts())\n",
    "print(\"\\nResampled class distribution:\")\n",
    "print(pd.Series(y_resampled).value_counts())"
   ]
  },
  {
   "cell_type": "code",
   "execution_count": 296,
   "id": "876e6b8b-8f01-4732-899b-7725406e7a3d",
   "metadata": {},
   "outputs": [
    {
     "name": "stdout",
     "output_type": "stream",
     "text": [
      "Precision: 0.806949806949807\n",
      "Recall: 0.8744769874476988\n"
     ]
    }
   ],
   "source": [
    "X_train, X_test, y_train, y_test = train_test_split(X_resampled, y_resampled, test_size=0.33, random_state=42)\n",
    "rndclf.fit(X_train, y_train)\n",
    "preds = rndclf.predict(X_test)\n",
    "print(f\"Precision: {precision_score(y_test, y_pred=preds)}\\nRecall: {recall_score(y_test, y_pred=preds)}\")"
   ]
  },
  {
   "cell_type": "markdown",
   "id": "a7c123df-12a6-4753-aca3-8b547bfa8770",
   "metadata": {},
   "source": [
    "Precision has increased from 76% to over 80% now. That is good progress. Let's see if tuning the hyperparameters can have an effect."
   ]
  },
  {
   "cell_type": "code",
   "execution_count": 299,
   "id": "83955ee9-efae-45f5-992f-40c0215d7557",
   "metadata": {},
   "outputs": [
    {
     "data": {
      "text/plain": [
       "{'bootstrap': True,\n",
       " 'ccp_alpha': 0.0,\n",
       " 'class_weight': None,\n",
       " 'criterion': 'gini',\n",
       " 'max_depth': None,\n",
       " 'max_features': 'sqrt',\n",
       " 'max_leaf_nodes': None,\n",
       " 'max_samples': None,\n",
       " 'min_impurity_decrease': 0.0,\n",
       " 'min_samples_leaf': 1,\n",
       " 'min_samples_split': 2,\n",
       " 'min_weight_fraction_leaf': 0.0,\n",
       " 'monotonic_cst': None,\n",
       " 'n_estimators': 100,\n",
       " 'n_jobs': None,\n",
       " 'oob_score': False,\n",
       " 'random_state': None,\n",
       " 'verbose': 0,\n",
       " 'warm_start': False}"
      ]
     },
     "execution_count": 299,
     "metadata": {},
     "output_type": "execute_result"
    }
   ],
   "source": [
    "rndclf.get_params()"
   ]
  },
  {
   "cell_type": "code",
   "execution_count": 322,
   "id": "e2204104-1054-4f35-899f-29180644b887",
   "metadata": {},
   "outputs": [],
   "source": [
    "def fit_and_train(model, X, y):\n",
    "    X_train, X_test, y_train, y_test = train_test_split(X, y, test_size=0.33, random_state=42)\n",
    "    rndclf.fit(X_train, y_train)\n",
    "    preds = rndclf.predict(X_test)\n",
    "    print(f\"Precision: {np.round(precision_score(y_test, y_pred=preds),4)}\\nRecall: {np.round(recall_score(y_test, y_pred=preds),4)}\\nF1 Score: {np.round(f1_score(y_test, y_pred=preds),4)}\")"
   ]
  },
  {
   "cell_type": "code",
   "execution_count": 323,
   "id": "33e35c77-bfa0-4e9c-a548-a0fb813aa4c8",
   "metadata": {},
   "outputs": [
    {
     "name": "stdout",
     "output_type": "stream",
     "text": [
      "Precision: 0.8\n",
      "Recall: 0.887\n",
      "F1 Score: 0.8413\n"
     ]
    }
   ],
   "source": [
    "rndclf = RandomForestClassifier(n_estimators=200)\n",
    "fit_and_train(rndclf, X_resampled, y_resampled)"
   ]
  },
  {
   "cell_type": "markdown",
   "id": "ca8d8327-eee6-4afd-b94e-07340d8600c9",
   "metadata": {},
   "source": [
    "Looks like just increasing the number of estimators is not helping. Let's prune the tree."
   ]
  },
  {
   "cell_type": "code",
   "execution_count": 324,
   "id": "2554d4f6-ce04-42fd-ae92-f3148f7db993",
   "metadata": {},
   "outputs": [
    {
     "name": "stdout",
     "output_type": "stream",
     "text": [
      "------ Max Depth: 5 ------\n",
      "Precision: 0.8068\n",
      "Recall: 0.8912\n",
      "F1 Score: 0.8469\n",
      "------ Max Depth: 10 ------\n",
      "Precision: 0.7947\n",
      "Recall: 0.8745\n",
      "F1 Score: 0.8327\n",
      "------ Max Depth: 15 ------\n",
      "Precision: 0.7984\n",
      "Recall: 0.8619\n",
      "F1 Score: 0.829\n",
      "------ Max Depth: 20 ------\n",
      "Precision: 0.7909\n",
      "Recall: 0.8703\n",
      "F1 Score: 0.8287\n",
      "------ Max Depth: 25 ------\n",
      "Precision: 0.8106\n",
      "Recall: 0.8954\n",
      "F1 Score: 0.8509\n",
      "------ Max Depth: 30 ------\n",
      "Precision: 0.8135\n",
      "Recall: 0.8577\n",
      "F1 Score: 0.835\n",
      "------ Max Depth: 35 ------\n",
      "Precision: 0.8023\n",
      "Recall: 0.8828\n",
      "F1 Score: 0.8406\n",
      "------ Max Depth: 40 ------\n",
      "Precision: 0.7926\n",
      "Recall: 0.8954\n",
      "F1 Score: 0.8409\n"
     ]
    }
   ],
   "source": [
    "for max_dept in range(5,45,5):\n",
    "    print(f\"------ Max Depth: {max_dept} ------\")\n",
    "    rndclf = RandomForestClassifier(max_depth=10)\n",
    "    fit_and_train(rndclf, X_resampled, y_resampled)"
   ]
  },
  {
   "cell_type": "markdown",
   "id": "736f6a49-d524-451b-9fec-e3ed02b8bc57",
   "metadata": {},
   "source": [
    "Looks like `max_depth` of 25 with `n_estimators=200 (default)` is the best hyper parameters using RandomForestClassifier and SMOTE over sampling."
   ]
  },
  {
   "cell_type": "markdown",
   "id": "82d2f828-2397-4d08-9a43-0f45042d028c",
   "metadata": {},
   "source": [
    "## Feature Engineering\n",
    "`RandomForestClassifier` is normally used as a feature engineering tool. It can show the features that contribute most to the decision. So let's expore and see if that does any better than simply using the correlation operator."
   ]
  },
  {
   "cell_type": "code",
   "execution_count": 328,
   "id": "57a9bcea-fe1b-4ef2-88ef-b7892e4b1434",
   "metadata": {},
   "outputs": [
    {
     "data": {
      "text/plain": [
       "48"
      ]
     },
     "execution_count": 328,
     "metadata": {},
     "output_type": "execute_result"
    }
   ],
   "source": [
    "len(rndclf.feature_importances_)"
   ]
  },
  {
   "cell_type": "code",
   "execution_count": 330,
   "id": "349a5229-106a-43be-b402-84a37e1f5b32",
   "metadata": {},
   "outputs": [
    {
     "data": {
      "text/plain": [
       "Index(['duration', 'credit_amount', 'installment_commitment',\n",
       "       'residence_since', 'age', 'existing_credits', 'num_dependents',\n",
       "       'own_telephone', 'foreign_worker', 'class', 'all paid',\n",
       "       'critical/other existing credit', 'delayed previously', 'existing paid',\n",
       "       'no credits/all paid', 'domestic appliance', 'new car', 'used car',\n",
       "       'business', 'education', 'furniture/equipment', 'other', 'radio/tv',\n",
       "       'repairs', 'retraining', 'female div/dep/mar', 'male div/sep',\n",
       "       'male mar/wid', 'male single', 'co applicant', 'guarantor', 'none',\n",
       "       'life insurance', 'no known property', 'real estate', 'car', 'bank',\n",
       "       'none', 'stores', 'for free', 'own', 'rent',\n",
       "       'high qualif/self emp/mgmt', 'unemp/unskilled non res',\n",
       "       'unskilled resident', 'skilled', 'checking_bin', 'savings_bin',\n",
       "       'employment_bin'],\n",
       "      dtype='object')"
      ]
     },
     "execution_count": 330,
     "metadata": {},
     "output_type": "execute_result"
    }
   ],
   "source": [
    "credit.columns"
   ]
  },
  {
   "cell_type": "code",
   "execution_count": 332,
   "id": "476f44a3-8090-49fa-828f-5e3c3527d368",
   "metadata": {},
   "outputs": [],
   "source": [
    "columns = list(credit.columns)\n"
   ]
  },
  {
   "cell_type": "code",
   "execution_count": 336,
   "id": "8146722c-d60e-4808-9561-d2f01ac93f66",
   "metadata": {},
   "outputs": [
    {
     "data": {
      "text/plain": [
       "'class'"
      ]
     },
     "execution_count": 336,
     "metadata": {},
     "output_type": "execute_result"
    }
   ],
   "source": [
    "columns.pop(9)"
   ]
  },
  {
   "cell_type": "code",
   "execution_count": 338,
   "id": "0c9bb322-24dd-40cd-8b3b-be8eab82263d",
   "metadata": {},
   "outputs": [
    {
     "data": {
      "text/plain": [
       "48"
      ]
     },
     "execution_count": 338,
     "metadata": {},
     "output_type": "execute_result"
    }
   ],
   "source": [
    "len(columns)"
   ]
  },
  {
   "cell_type": "code",
   "execution_count": 340,
   "id": "91e32abf-e00f-41bf-8f1a-3bd9d504c6f4",
   "metadata": {},
   "outputs": [
    {
     "name": "stdout",
     "output_type": "stream",
     "text": [
      "duration 0.06374912258057969\n",
      "credit_amount 0.05480287034327893\n",
      "installment_commitment 0.03288516466304427\n",
      "residence_since 0.03578878360421085\n",
      "age 0.04778140032778424\n",
      "existing_credits 0.01974767792784613\n",
      "num_dependents 0.008644630973581634\n",
      "own_telephone 0.016655301521635975\n",
      "foreign_worker 0.002832819475428355\n",
      "all paid 0.009145029641835632\n",
      "critical/other existing credit 0.055192423026459464\n",
      "delayed previously 0.011683455358985519\n",
      "existing paid 0.032069017817403817\n",
      "no credits/all paid 0.0066522785562702635\n",
      "domestic appliance 0.0010629877597333399\n",
      "new car 0.027295585686189446\n",
      "used car 0.014125000811842729\n",
      "business 0.009445832655943077\n",
      "education 0.005604771869410638\n",
      "furniture/equipment 0.011061458581972366\n",
      "other 0.001083188061993686\n",
      "radio/tv 0.035060319112146646\n",
      "repairs 0.003403854422822285\n",
      "retraining 0.0006140350033514953\n",
      "female div/dep/mar 0.01857296578843669\n",
      "male div/sep 0.0061168671368218375\n",
      "male mar/wid 0.005258570354611371\n",
      "male single 0.01758026615148396\n",
      "co applicant 0.00500562659280832\n",
      "guarantor 0.004961502113879009\n",
      "none 0.007650147907377477\n",
      "life insurance 0.009304692204845635\n",
      "no known property 0.011337281194931003\n",
      "real estate 0.03757000698516171\n",
      "car 0.015164180191035118\n",
      "bank 0.016620355668950714\n",
      "none 0.020164159480701303\n",
      "stores 0.0063426657896448295\n",
      "for free 0.011766811157529589\n",
      "own 0.030383495978134726\n",
      "rent 0.018265516797491232\n",
      "high qualif/self emp/mgmt 0.010701641885194917\n",
      "unemp/unskilled non res 0.0014941308818431642\n",
      "unskilled resident 0.009328857820677446\n",
      "skilled 0.017269281025332508\n",
      "checking_bin 0.1349222971297217\n",
      "savings_bin 0.04073391323618582\n",
      "employment_bin 0.037097756743449485\n"
     ]
    }
   ],
   "source": [
    "for (col, val) in zip(columns, rndclf.feature_importances_):\n",
    "    print( col, np.round(val,2))"
   ]
  },
  {
   "cell_type": "code",
   "execution_count": 343,
   "id": "7c8b3414-aa72-44ff-bb73-f1a7c65899bf",
   "metadata": {},
   "outputs": [
    {
     "name": "stdout",
     "output_type": "stream",
     "text": [
      "checking_bin                    0.135\n",
      "duration                        0.064\n",
      "critical/other existing credit  0.055\n",
      "credit_amount                   0.055\n",
      "age                             0.048\n",
      "savings_bin                     0.041\n",
      "real estate                     0.038\n",
      "employment_bin                  0.037\n",
      "residence_since                 0.036\n",
      "radio/tv                        0.035\n",
      "installment_commitment          0.033\n",
      "existing paid                   0.032\n",
      "own                              0.03\n",
      "new car                         0.027\n",
      "none                             0.02\n",
      "existing_credits                 0.02\n",
      "female div/dep/mar              0.019\n",
      "rent                            0.018\n",
      "male single                     0.018\n",
      "skilled                         0.017\n",
      "own_telephone                   0.017\n",
      "bank                            0.017\n",
      "car                             0.015\n",
      "used car                        0.014\n",
      "for free                        0.012\n",
      "delayed previously              0.012\n",
      "no known property               0.011\n",
      "furniture/equipment             0.011\n",
      "high qualif/self emp/mgmt       0.011\n",
      "business                        0.009\n",
      "unskilled resident              0.009\n",
      "life insurance                  0.009\n",
      "all paid                        0.009\n",
      "num_dependents                  0.009\n",
      "none                            0.008\n",
      "no credits/all paid             0.007\n",
      "stores                          0.006\n",
      "male div/sep                    0.006\n",
      "education                       0.006\n",
      "male mar/wid                    0.005\n",
      "co applicant                    0.005\n",
      "guarantor                       0.005\n",
      "repairs                         0.003\n",
      "foreign_worker                  0.003\n",
      "unemp/unskilled non res         0.001\n",
      "other                           0.001\n",
      "domestic appliance              0.001\n",
      "retraining                      0.001\n"
     ]
    }
   ],
   "source": [
    "feature_importance = sorted(zip(columns, rndclf.feature_importances_), \n",
    "                          key=lambda x: x[1], \n",
    "                          reverse=True)\n",
    "\n",
    "# Print the sorted features and their importance scores\n",
    "for feature, importance in feature_importance:\n",
    "    print(f\"{feature:<30} {np.round(importance, 3):>6}\")"
   ]
  },
  {
   "cell_type": "markdown",
   "id": "cc888664-c98c-40bd-a634-4c6418e1e914",
   "metadata": {},
   "source": [
    "Looks like these 5 features are not that important:\n",
    "* repairs\n",
    "* foreign_worker\n",
    "* unemp/unskilled non res\n",
    "* other\n",
    "* domestic appliance\n",
    "* retraining\n",
    "\n",
    "Let's see if dropping them will improve the performance.\n"
   ]
  },
  {
   "cell_type": "code",
   "execution_count": 344,
   "id": "2381de63-73b8-4c9f-a5cd-f05513a21035",
   "metadata": {},
   "outputs": [],
   "source": [
    "credit.drop(['repairs', 'foreign_worker', 'unemp/unskilled non res', 'other', 'domestic appliance', 'retraining'], axis=1, inplace=True)"
   ]
  },
  {
   "cell_type": "code",
   "execution_count": 345,
   "id": "a9049ee2-6de5-4aad-b12b-521cc1bc3450",
   "metadata": {},
   "outputs": [
    {
     "name": "stdout",
     "output_type": "stream",
     "text": [
      "------ Max Depth: 5 ------\n",
      "Precision: 0.7849\n",
      "Recall: 0.8703\n",
      "F1 Score: 0.8254\n",
      "------ Max Depth: 10 ------\n",
      "Precision: 0.8287\n",
      "Recall: 0.8703\n",
      "F1 Score: 0.849\n",
      "------ Max Depth: 15 ------\n",
      "Precision: 0.8269\n",
      "Recall: 0.8996\n",
      "F1 Score: 0.8617\n",
      "------ Max Depth: 20 ------\n",
      "Precision: 0.8053\n",
      "Recall: 0.8828\n",
      "F1 Score: 0.8423\n",
      "------ Max Depth: 25 ------\n",
      "Precision: 0.7901\n",
      "Recall: 0.8661\n",
      "F1 Score: 0.8263\n",
      "------ Max Depth: 30 ------\n",
      "Precision: 0.8137\n",
      "Recall: 0.8954\n",
      "F1 Score: 0.8526\n",
      "------ Max Depth: 35 ------\n",
      "Precision: 0.8075\n",
      "Recall: 0.8954\n",
      "F1 Score: 0.8492\n",
      "------ Max Depth: 40 ------\n",
      "Precision: 0.8086\n",
      "Recall: 0.8661\n",
      "F1 Score: 0.8364\n"
     ]
    }
   ],
   "source": [
    "X_train, X_test, y_train, y_test = train_test_split(X, y, test_size=0.33, random_state=42)\n",
    "# Create the SMOTE object\n",
    "smote = SMOTE(random_state=42)\n",
    "# Fit and apply SMOTE\n",
    "# X is your feature matrix, y is your target (credit column)\n",
    "X_resampled, y_resampled = smote.fit_resample(X, y)\n",
    "\n",
    "for max_dept in range(5,45,5):\n",
    "    print(f\"------ Max Depth: {max_dept} ------\")\n",
    "    rndclf = RandomForestClassifier(max_depth=10)\n",
    "    fit_and_train(rndclf, X_resampled, y_resampled)"
   ]
  },
  {
   "cell_type": "markdown",
   "id": "ac6846b4-55a1-486a-9664-3f36ea78f66f",
   "metadata": {},
   "source": [
    "In the previous case, this was the best result:\n",
    "\n",
    "```\n",
    "------ Max Depth: 25 ------\n",
    "Precision: 0.8106\n",
    "Recall: 0.8954\n",
    "F1 Score: 0.8509\n",
    "```\n",
    "\n",
    "With the feature engineered data set, the results got better at an even lower depth of just 15.\n",
    "\n",
    "```\n",
    "------ Max Depth: 15 ------\n",
    "Precision: 0.8269\n",
    "Recall: 0.8996\n",
    "F1 Score: 0.8617\n",
    "```\n",
    "\n",
    "At this point, I think we've done enough feature engineering. Now is the time to move on from RandomForest and see if changing algorigthm can provide a better performance.\n",
    "\n",
    "### XGBoost\n",
    "\n",
    "In the AWS Exams, I felt that XGBoost was given a lot of importance. It was considered as a decent enough algorithm to help in a lot of classification tasks. So let's start with it."
   ]
  },
  {
   "cell_type": "code",
   "execution_count": 346,
   "id": "1fe78578-b8e7-4871-9d9b-5a50a9ea9789",
   "metadata": {},
   "outputs": [],
   "source": [
    "!pip install --upgrade -q pip"
   ]
  },
  {
   "cell_type": "code",
   "execution_count": 352,
   "id": "5b43bab8-0539-4be0-9844-dcf85b8a75f3",
   "metadata": {},
   "outputs": [],
   "source": [
    "!pip uninstall -q xgboost -y"
   ]
  },
  {
   "cell_type": "code",
   "execution_count": 353,
   "id": "f69ed350-3d08-431a-9663-afc299547518",
   "metadata": {},
   "outputs": [],
   "source": [
    "!pip install -q xgboost"
   ]
  },
  {
   "cell_type": "code",
   "execution_count": 354,
   "id": "e8e66dd0-0386-457b-a650-36b1b0b28a3c",
   "metadata": {},
   "outputs": [
    {
     "name": "stdout",
     "output_type": "stream",
     "text": [
      "2.1.3\n"
     ]
    }
   ],
   "source": [
    "import xgboost as xgb\n",
    "print(xgb.__version__)"
   ]
  },
  {
   "cell_type": "code",
   "execution_count": 376,
   "id": "d15fbad5-ce1c-4dcb-bb52-a5026e360079",
   "metadata": {},
   "outputs": [],
   "source": [
    "# Convert data into DMatrix\n",
    "dtrain = xgb.DMatrix(X_resampled, label=y_resampled)\n",
    "dtest = xgb.DMatrix(X_test, label=y_test)\n",
    "\n",
    "# Set parameters\n",
    "params = {\n",
    "    \"objective\": \"binary:logistic\",\n",
    "    \"max_depth\": 15,\n",
    "    \"eta\": 0.1,\n",
    "    \"eval_metric\": \"logloss\",\n",
    "}\n",
    "\n",
    "# Train model\n",
    "num_round = 57\n",
    "bst = xgb.train(params, dtrain, num_round)"
   ]
  },
  {
   "cell_type": "code",
   "execution_count": 377,
   "id": "daf56be5-94f6-4789-8385-1f607737da89",
   "metadata": {},
   "outputs": [
    {
     "name": "stdout",
     "output_type": "stream",
     "text": [
      "Precision: 1.0\n",
      "Recall: 1.0\n",
      "F1 Score: 1.0\n",
      "Accuracy: 1.0\n"
     ]
    }
   ],
   "source": [
    "# Predict\n",
    "preds = bst.predict(dtest)\n",
    "predictions = [1 if p > 0.5 else 0 for p in preds]\n",
    "\n",
    "# Evaluate\n",
    "print(f\"Precision: {np.round(precision_score(y_test, y_pred=predictions),4)}\\nRecall: {np.round(recall_score(y_test, y_pred=predictions),4)}\\nF1 Score: {np.round(f1_score(y_test, y_pred=predictions),4)}\")\n",
    "print(\"Accuracy:\", accuracy)"
   ]
  },
  {
   "cell_type": "markdown",
   "id": "657dbf43-1083-49f7-a88f-a37b66ed6bd3",
   "metadata": {},
   "source": [
    "This is amazing! At 57 rounds and  depth of 15, this algorithm gives me a perfect score! There is no point in trying a neural network as this algorithm is blazingly fast."
   ]
  },
  {
   "cell_type": "markdown",
   "id": "b241ffdc-f4b4-4498-b315-14b671a8ebd3",
   "metadata": {},
   "source": [
    "## Conclusion\n",
    "\n",
    "In this exercise, my objective was to take a new data set that I had never seen before. I wanted to go through the steps of data cleaning, encoding and feature engineering to arrive at a dataset that I could use for training. After running a training using RandomForest, I proceeded to enhance the data set using `SMOTE`. The purpose was to synthetically add more samples for the case when the credit was rejected. After this, I dropped some additional columns that `RandomForest` detected as features that contributed the least to predictions. After dropping them, I used `XGBoost`. I set the depth to same level as the best performing depth of `RandomForest`. With a few rounds of training, the algorithm reached a perfect F1-accuracy. "
   ]
  },
  {
   "cell_type": "code",
   "execution_count": null,
   "id": "7590596b-1bd1-4ef1-bf23-0d5b5600cae3",
   "metadata": {},
   "outputs": [],
   "source": []
  }
 ],
 "metadata": {
  "kernelspec": {
   "display_name": "Python 3 (ipykernel)",
   "language": "python",
   "name": "python3"
  },
  "language_info": {
   "codemirror_mode": {
    "name": "ipython",
    "version": 3
   },
   "file_extension": ".py",
   "mimetype": "text/x-python",
   "name": "python",
   "nbconvert_exporter": "python",
   "pygments_lexer": "ipython3",
   "version": "3.11.11"
  }
 },
 "nbformat": 4,
 "nbformat_minor": 5
}
