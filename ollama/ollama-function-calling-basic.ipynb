{
 "cells": [
  {
   "cell_type": "markdown",
   "id": "4145204a-7d51-47f9-be7d-2fa363bda2ca",
   "metadata": {},
   "source": [
    "# Ollama Function Calling\n",
    "\n",
    "There are 2 mechanism for function calling with Ollama. There is the _traditional_ Ollama method. It can also support the _OpenAI_ function calling API. I am trying both in this instance.\n",
    "\n",
    "First, let's define a dummy function that can get the weather."
   ]
  },
  {
   "cell_type": "code",
   "execution_count": 6,
   "id": "b0019776-42dd-4417-b684-a0ae64313bb9",
   "metadata": {},
   "outputs": [],
   "source": [
    "def get_weather(location: str)->str:    \n",
    "    '''Get current temperature for a given location.'''\n",
    "    print(f\"Getting weather for: {location}\")\n",
    "    return \"Temperature is 10 degrees\""
   ]
  },
  {
   "cell_type": "markdown",
   "id": "e372040c-7096-4156-930a-5d9dcb2b978e",
   "metadata": {},
   "source": [
    "Next, let's create a dictionary of available functions."
   ]
  },
  {
   "cell_type": "code",
   "execution_count": 7,
   "id": "e744761f-d5fd-451a-91ef-2d9075332089",
   "metadata": {},
   "outputs": [],
   "source": [
    "available_functions = {\n",
    "    \"get_weather\": get_weather\n",
    "}"
   ]
  },
  {
   "cell_type": "markdown",
   "id": "014127cf-aa18-4df7-8b9e-ff8ea10ccbd5",
   "metadata": {},
   "source": [
    "## Ollama Method\n",
    "Here is function calling using the traditional Ollama method. Note that the initial call does not actually _invoke_ the function. This has to happen outside of the `ollama.chat` call. So you need to parse the response and then make the function call."
   ]
  },
  {
   "cell_type": "code",
   "execution_count": 8,
   "id": "e1ada666-5fef-45b3-85e2-f5a593f51bb8",
   "metadata": {},
   "outputs": [
    {
     "name": "stdout",
     "output_type": "stream",
     "text": [
      "[{'function': {'name': 'get_weather', 'arguments': {'location': 'Toronto'}}}]\n"
     ]
    }
   ],
   "source": [
    "import ollama\n",
    "response = ollama.chat(\n",
    "    model='llama3.2:latest',\n",
    "    messages=[{'role': 'user', 'content':\n",
    "        'What is the weather in Toronto?'}],\n",
    "\n",
    "\t\t# provide a weather checking tool to the model\n",
    "    tools=[{\n",
    "      'type': 'function',\n",
    "      'function': {\n",
    "        'name': 'get_weather',\n",
    "        'description': 'Get the current weather for a location',\n",
    "        'parameters': {\n",
    "          'type': 'object',\n",
    "          'properties': {\n",
    "            'location': {\n",
    "              'type': 'string',\n",
    "              'description': 'The name of the city, country. For example, London, United Kingdom.',\n",
    "            },\n",
    "          },\n",
    "          'required': ['location'],\n",
    "        },\n",
    "      },\n",
    "    },\n",
    "  ],\n",
    ")\n",
    "\n",
    "print(response['message']['tool_calls'])"
   ]
  },
  {
   "cell_type": "code",
   "execution_count": 9,
   "id": "222c7d0d-6305-4c50-b398-08de82f9a1a3",
   "metadata": {},
   "outputs": [
    {
     "name": "stdout",
     "output_type": "stream",
     "text": [
      "Getting weather for: Toronto\n",
      "Temperature is 10 degrees\n"
     ]
    }
   ],
   "source": [
    "for tool in response[\"message\"][\"tool_calls\"]:\n",
    "    function_to_call = available_functions[tool['function']['name']]\n",
    "    function_args = tool['function']['arguments']\n",
    "    function_response = function_to_call(**function_args)\n",
    "    print(function_response)"
   ]
  },
  {
   "cell_type": "markdown",
   "id": "370303da-ef37-4684-b2da-5a9e63f352ef",
   "metadata": {},
   "source": [
    "## OpenAI Method\n",
    "Now let's switch to the OpenAI API. If you want to develop and test your code on local host and then deploy to OpenAI, this is a much better mechanim. Again, the initial call only returns an object for tool calling. You would have to parse the result and actually call the function."
   ]
  },
  {
   "cell_type": "code",
   "execution_count": 10,
   "id": "7e5e9201-3ccd-4b99-a365-072da9eadace",
   "metadata": {},
   "outputs": [
    {
     "name": "stdout",
     "output_type": "stream",
     "text": [
      "[ChatCompletionMessageToolCall(id='call_lg0dj7f5', function=Function(arguments='{\"location\":\"Paris, France\"}', name='get_weather'), type='function', index=0)]\n",
      "Getting weather for: Paris, France\n",
      "Temperature is 10 degrees\n"
     ]
    }
   ],
   "source": [
    "import json\n",
    "from openai import OpenAI\n",
    "\n",
    "client = OpenAI(\n",
    "    base_url = 'http://localhost:11434/v1',\n",
    "    api_key='ollama', # required, but unused\n",
    ")\n",
    "tools = [{\n",
    "    \"type\": \"function\",\n",
    "    \"function\": {\n",
    "        \"name\": \"get_weather\",\n",
    "        \"description\": \"Get current temperature for a given location.\",\n",
    "        \"parameters\": {\n",
    "            \"type\": \"object\",\n",
    "            \"properties\": {\n",
    "                \"location\": {\n",
    "                    \"type\": \"string\",\n",
    "                    \"description\": \"City and country e.g. London, United Kingdom\"\n",
    "                }\n",
    "            },\n",
    "            \"required\": [\n",
    "                \"location\"\n",
    "            ],\n",
    "            \"additionalProperties\": False\n",
    "        },\n",
    "        \"strict\": True\n",
    "    }\n",
    "}]\n",
    "\n",
    "completion = client.chat.completions.create(\n",
    "    model=\"llama3.2:latest\",\n",
    "    messages=[{\"role\": \"user\", \"content\": \"What is the weather like in Paris today?\"}],\n",
    "    tools=tools\n",
    ")\n",
    "\n",
    "print(completion.choices[0].message.tool_calls)\n",
    "function_to_call = available_functions[completion.choices[0].message.tool_calls[0].function.name]\n",
    "function_args = json.loads(completion.choices[0].message.tool_calls[0].function.arguments)\n",
    "function_response = function_to_call(**function_args)\n",
    "print(function_response)"
   ]
  },
  {
   "cell_type": "markdown",
   "id": "5706ddd0-b94b-44d1-b4c6-2b052e0f8362",
   "metadata": {},
   "source": [
    "## Upload to Cloudinary \n",
    "Now, let's enhance the function to allow a user to upload to Cloudinary. It assumes that the Cloudinary API credentials are loaded at the time of initializing the Jupyter notebook."
   ]
  },
  {
   "cell_type": "code",
   "execution_count": 11,
   "id": "000196b9-2dcf-4f45-bfdc-5785d14bf352",
   "metadata": {},
   "outputs": [],
   "source": [
    "import cloudinary.uploader\n",
    "\n",
    "def upload_to_cloudinary(url: str)->str:\n",
    "    '''\n",
    "    Upload the image at the url to Cloudinary\n",
    "    '''\n",
    "    print(f\"Uploading {url}\")\n",
    "    resp = cloudinary.uploader.upload(\n",
    "        url,\n",
    "        public_id='test-image',\n",
    "        unique_filename=False,\n",
    "        overwrite=True\n",
    "    )\n",
    "    return resp\n",
    "\n",
    "# also add this to list of available tools\n",
    "available_functions['upload_to_cloudinary']=upload_to_cloudinary"
   ]
  },
  {
   "cell_type": "code",
   "execution_count": 13,
   "id": "9d117ab2-1bb4-414d-b2ca-7e8f43cec307",
   "metadata": {},
   "outputs": [
    {
     "name": "stdout",
     "output_type": "stream",
     "text": [
      "[ChatCompletionMessageToolCall(id='call_ins2rpcm', function=Function(arguments='{\"url\":\"https://cdn.pixabay.com/photo/2020/09/20/16/50/big-buddha-5587706_1280.jpg\"}', name='upload_to_cloudinary'), type='function', index=0)]\n",
      "Uploading https://cdn.pixabay.com/photo/2020/09/20/16/50/big-buddha-5587706_1280.jpg\n",
      "{'asset_id': 'f6f23ec8b8037c7b476d68cccc00e490', 'public_id': 'test-image', 'version': 1737481322, 'version_id': '7cf92ee22bc1c6287c83bcc3458d90ed', 'signature': '95ec662d1935497b674ca1a5f956c3f1f690219d', 'width': 1024, 'height': 1280, 'format': 'jpg', 'resource_type': 'image', 'created_at': '2024-01-16T21:50:27Z', 'tags': [], 'pages': 1, 'bytes': 168780, 'type': 'upload', 'etag': '8e0cd6d849a93acd1b2bb51a4a3cf2d4', 'placeholder': False, 'url': 'http://res.cloudinary.com/dbmataac4/image/upload/v1737481322/test-image.jpg', 'secure_url': 'https://res.cloudinary.com/dbmataac4/image/upload/v1737481322/test-image.jpg', 'folder': '', 'access_mode': 'public', 'metadata': {'destination': ['web'], 'publish_date': '2023-11-16', 'quantity': 1, 'season': 'summer', 'title': 'Sample title'}, 'info': {'visual_search': {'clip': {'status': 'pending'}}}, 'overwritten': True, 'original_filename': 'big-buddha-5587706_1280', 'api_key': '763349964634248'}\n"
     ]
    }
   ],
   "source": [
    "# let's use OpenAI function\n",
    "tools = [\n",
    "    {\n",
    "        \"type\": \"function\",\n",
    "        \"function\": {\n",
    "            \"name\": \"get_weather\",\n",
    "            \"description\": \"Get current temperature for a given location.\",\n",
    "            \"parameters\": {\n",
    "                \"type\": \"object\",\n",
    "                \"properties\": {\n",
    "                    \"location\": {\n",
    "                        \"type\": \"string\",\n",
    "                        \"description\": \"City and country e.g. London, United Kingdom\"\n",
    "                    }\n",
    "                },\n",
    "                \"required\": [\n",
    "                    \"location\"\n",
    "                ],\n",
    "                \"additionalProperties\": False\n",
    "            },\n",
    "            \"strict\": True\n",
    "        }\n",
    "    },\n",
    "    {\n",
    "        \"type\": \"function\",\n",
    "        \"function\": {\n",
    "            \"name\": \"upload_to_cloudinary\",\n",
    "            \"description\": \"Upload an image url to Cloudinary.\",\n",
    "            \"parameters\": {\n",
    "                \"type\": \"object\",\n",
    "                \"properties\": {\n",
    "                    \"url\": {\n",
    "                        \"type\": \"string\",\n",
    "                        \"description\": \"image url to be used for Cloudinary upload\"\n",
    "                    }\n",
    "                },\n",
    "                \"required\": [\n",
    "                    \"url\"\n",
    "                ],\n",
    "                \"additionalProperties\": False\n",
    "            },\n",
    "            \"strict\": True\n",
    "        }\n",
    "    }\n",
    "]\n",
    "\n",
    "completion = client.chat.completions.create(\n",
    "    model=\"llama3.2:latest\",\n",
    "    messages=[{\"role\": \"user\", \"content\": \"Upload this image to Cloudinary: https://cdn.pixabay.com/photo/2020/09/20/16/50/big-buddha-5587706_1280.jpg\"}],\n",
    "    tools=tools\n",
    ")\n",
    "print(completion.choices[0].message.tool_calls)\n",
    "function_to_call = available_functions[completion.choices[0].message.tool_calls[0].function.name]\n",
    "function_args = json.loads(completion.choices[0].message.tool_calls[0].function.arguments)\n",
    "function_response = function_to_call(**function_args)"
   ]
  },
  {
   "cell_type": "code",
   "execution_count": 14,
   "id": "6da0d0d5-42b4-4b70-bcc7-d3267c53cf0d",
   "metadata": {},
   "outputs": [
    {
     "name": "stdout",
     "output_type": "stream",
     "text": [
      "Image uploaded to: https://res.cloudinary.com/dbmataac4/image/upload/v1737481322/test-image.jpg\n"
     ]
    }
   ],
   "source": [
    "if function_response.get('secure_url'):\n",
    "    print(f\"Image uploaded to: {function_response.get('secure_url')}\")"
   ]
  },
  {
   "cell_type": "code",
   "execution_count": null,
   "id": "29eb7740-feb7-4a85-9749-614748439c2c",
   "metadata": {},
   "outputs": [],
   "source": []
  }
 ],
 "metadata": {
  "kernelspec": {
   "display_name": "Python 3 (ipykernel)",
   "language": "python",
   "name": "python3"
  },
  "language_info": {
   "codemirror_mode": {
    "name": "ipython",
    "version": 3
   },
   "file_extension": ".py",
   "mimetype": "text/x-python",
   "name": "python",
   "nbconvert_exporter": "python",
   "pygments_lexer": "ipython3",
   "version": "3.12.8"
  }
 },
 "nbformat": 4,
 "nbformat_minor": 5
}
