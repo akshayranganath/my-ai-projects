{
 "cells": [
  {
   "cell_type": "code",
   "execution_count": 23,
   "id": "4b0bb6e7-5f26-4efe-a784-9101b12d7ce4",
   "metadata": {},
   "outputs": [],
   "source": [
    "from llama_index.llms import Ollama\n",
    "import base64\n",
    "import struct"
   ]
  },
  {
   "cell_type": "code",
   "execution_count": 24,
   "id": "8c9af355-58f2-4b43-9583-5c53f252ed26",
   "metadata": {},
   "outputs": [],
   "source": [
    "# load the llava model with Ollama interface. I am keeping a very high timeout to handle larger images\n",
    "llm = Ollama(model='llava', temperature=0, request_timeout=300.0,verbose=True)"
   ]
  },
  {
   "cell_type": "code",
   "execution_count": 25,
   "id": "61284b22-63b2-4876-91f5-d04497e8a508",
   "metadata": {},
   "outputs": [],
   "source": [
    "# we require a base 64 encoded string of the image bytes - this function helps out.\n",
    "def get_b64_image(image_file:str)->str:    \n",
    "    with open(image_file,'rb') as f:\n",
    "        data = f.read()\n",
    "    b64_image = base64.b64encode(data).decode()\n",
    "    return b64_image"
   ]
  },
  {
   "cell_type": "code",
   "execution_count": 26,
   "id": "23291644-ccc8-47f0-82ba-97f9022990ed",
   "metadata": {},
   "outputs": [],
   "source": [
    "b64_image = get_b64_image('/Users/akshayranganath/Downloads/jumper.jpeg')"
   ]
  },
  {
   "cell_type": "code",
   "execution_count": null,
   "id": "55b6ee09-f138-4788-9d61-133090b2eb51",
   "metadata": {},
   "outputs": [],
   "source": [
    "# This won't work. We have not passed the image in the right way. The response is some random stuff\n",
    "resp = llm.complete(f'Can you describe this image? Here is the image data\\n\\n>>>{b64_image}>>>')\n",
    "print(resp.text)"
   ]
  },
  {
   "cell_type": "markdown",
   "id": "0131eebc-ce7d-4a36-9dad-1f585ec84a6c",
   "metadata": {},
   "source": [
    "### cURL\n",
    "Let's try this with curl instead of the library"
   ]
  },
  {
   "cell_type": "code",
   "execution_count": 27,
   "id": "c7b5d387-7775-4c1d-91d5-5497be8523bf",
   "metadata": {},
   "outputs": [],
   "source": [
    "import requests"
   ]
  },
  {
   "cell_type": "code",
   "execution_count": 28,
   "id": "46cd6ea8-d22d-4c82-9078-7deab1131211",
   "metadata": {},
   "outputs": [],
   "source": [
    "body = {\n",
    "    \"model\" : \"llava\",\n",
    "    \"prompt\": f\"Can you describe this image?\",\n",
    "    \"stream\": False,\n",
    "    \"images\": [b64_image], # i found this after combing through some github issues\n",
    "    \"options\":{\n",
    "        \"temperature\": 0\n",
    "    }\n",
    "}"
   ]
  },
  {
   "cell_type": "code",
   "execution_count": 29,
   "id": "0c6444a9-f84e-46de-8295-7fd07829e7f5",
   "metadata": {},
   "outputs": [],
   "source": [
    "resp = requests.post(\n",
    "    \"http://localhost:11434/api/generate\",\n",
    "    json=body\n",
    ")"
   ]
  },
  {
   "cell_type": "code",
   "execution_count": 30,
   "id": "ffd5390b-045c-4d1d-be04-19730e1518ac",
   "metadata": {},
   "outputs": [],
   "source": [
    "op = resp.json()"
   ]
  },
  {
   "cell_type": "code",
   "execution_count": 31,
   "id": "37f3e3db-c856-4d11-9b31-10bfe3e049f1",
   "metadata": {},
   "outputs": [
    {
     "name": "stdout",
     "output_type": "stream",
     "text": [
      " The image shows a dynamic scene of an athlete in mid-air, captured during a jump. The athlete is wearing a black tracksuit with the Nike logo on it and is also wearing black shoes with a white checkmark, which are characteristic of Nike's branding. The athlete appears to be a male, given the muscular build and the style of the clothing.\n",
      "\n",
      "The background suggests an indoor athletic facility, as indicated by the artificial turf and the stadium seating in the distance. There is a track with lane markings, and the lighting suggests it could be either early morning or late evening, given the soft glow on the ground. The athlete's pose and the motion blur around him convey a sense of speed and agility.\n",
      "\n",
      "The image has a professional quality to it, likely intended for promotional or advertising purposes, showcasing the athletic prowess associated with the Nike brand. \n"
     ]
    }
   ],
   "source": [
    "print(op['response'])"
   ]
  },
  {
   "cell_type": "markdown",
   "id": "95f01885-ecaf-43e8-8112-453daab1d3c2",
   "metadata": {},
   "source": [
    "### Using Library\n",
    "Now, let's try to use the library. After checking Git issues, I found out that the `llm` call can include `images` attribute. This takes the base64 encoded string to analyze. So using this mechanism, I am able to use the pure library and get the desired output."
   ]
  },
  {
   "cell_type": "code",
   "execution_count": 32,
   "id": "c831e33f-59f1-4c01-9c39-b0f59dbad922",
   "metadata": {},
   "outputs": [],
   "source": [
    "from llama_index.schema import ImageDocument"
   ]
  },
  {
   "cell_type": "code",
   "execution_count": 33,
   "id": "2ea2a4b3-9616-4bfb-afce-adaf283e7fea",
   "metadata": {},
   "outputs": [],
   "source": [
    "llava_response = llm.complete(\n",
    "    'Can you desribe this image?',\n",
    "    images=[b64_image],\n",
    ")"
   ]
  },
  {
   "cell_type": "code",
   "execution_count": 34,
   "id": "808c1f5a-aa60-4381-b49b-795011c9f716",
   "metadata": {},
   "outputs": [
    {
     "data": {
      "text/plain": [
       "\" The image shows a dynamic scene of an athlete in mid-air, captured during a jump. The athlete is wearing a black tracksuit with the Nike logo on it and is also wearing black shoes with a white checkmark. They are jumping over a track with a starting block visible in the background. The setting appears to be an indoor stadium with artificial lighting, as suggested by the shadows cast on the ground. The athlete's pose suggests they are in the middle of a sprint or hurdle event. The image has a dramatic and intense feel, emphasizing the athletic prowess and speed of the individual. \""
      ]
     },
     "execution_count": 34,
     "metadata": {},
     "output_type": "execute_result"
    }
   ],
   "source": [
    "llava_response.text"
   ]
  },
  {
   "cell_type": "code",
   "execution_count": null,
   "id": "2da5a96d-8844-4016-9b48-fa3f9f652fe1",
   "metadata": {},
   "outputs": [],
   "source": []
  }
 ],
 "metadata": {
  "kernelspec": {
   "display_name": "Python 3 (ipykernel)",
   "language": "python",
   "name": "python3"
  },
  "language_info": {
   "codemirror_mode": {
    "name": "ipython",
    "version": 3
   },
   "file_extension": ".py",
   "mimetype": "text/x-python",
   "name": "python",
   "nbconvert_exporter": "python",
   "pygments_lexer": "ipython3",
   "version": "3.10.13"
  }
 },
 "nbformat": 4,
 "nbformat_minor": 5
}
