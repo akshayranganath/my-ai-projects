{
 "cells": [
  {
   "cell_type": "code",
   "execution_count": 1,
   "id": "01a78dc9-a23b-430f-af13-65fd6efce78b",
   "metadata": {},
   "outputs": [
    {
     "name": "stderr",
     "output_type": "stream",
     "text": [
      "/Users/akshayranganath/Projects/idea/yolov5/venv/lib/python3.10/site-packages/scipy/__init__.py:155: UserWarning: A NumPy version >=1.18.5 and <1.26.0 is required for this version of SciPy (detected version 1.26.2\n",
      "  warnings.warn(f\"A NumPy version >={np_minversion} and <{np_maxversion}\"\n"
     ]
    }
   ],
   "source": [
    "from llama_index import VectorStoreIndex\n",
    "from llama_index.readers.web import SimpleWebPageReader\n",
    "from llama_index.llms import Bedrock\n",
    "from llama_index import ServiceContext, StorageContext, load_index_from_storage\n",
    "from llama_index.embeddings import BedrockEmbedding\n",
    "import os.path"
   ]
  },
  {
   "cell_type": "code",
   "execution_count": 38,
   "id": "763a91a9-f234-48f7-997b-65182d24bbca",
   "metadata": {},
   "outputs": [],
   "source": [
    "import logging\n",
    "import sys\n",
    "logging.basicConfig(stream=sys.stdout, level=logging.ERROR)\n",
    "logging.getLogger().addHandler(logging.StreamHandler(stream=sys.stdout))"
   ]
  },
  {
   "cell_type": "code",
   "execution_count": 39,
   "id": "574e4db7-335c-4441-bc24-4becbbd2f40d",
   "metadata": {},
   "outputs": [],
   "source": [
    "PERSIST_DIR = \"./storage\"\n",
    "\n",
    "#llm = Bedrock(model='anthropic.claude-v2',temperature=0,profile_name='aws_sol')\n",
    "llm = Bedrock(model='anthropic.claude-instant-v1',temperature=0,profile_name='aws_sol')\n",
    "embedding = BedrockEmbedding.from_credentials(aws_profile='aws_sol')\n",
    "# create a service context using the Bedrock embeddings\n",
    "service_context = ServiceContext.from_defaults(\n",
    "    llm=llm,\n",
    "    embed_model=embedding    \n",
    ")  "
   ]
  },
  {
   "cell_type": "code",
   "execution_count": 42,
   "id": "60ab0dd6-f0d0-402b-8b13-5deb711684a6",
   "metadata": {},
   "outputs": [],
   "source": [
    "def main(url:str)->None:\n",
    "    # check if index exists. if not, create one.\n",
    "    if not os.path.exists(PERSIST_DIR):\n",
    "        documents = SimpleWebPageReader(html_to_text=True).load_data(urls=[url])\n",
    "        index = VectorStoreIndex.from_documents(documents,service_context=service_context)\n",
    "        # now persist the index\n",
    "        index.storage_context.persist(persist_dir=PERSIST_DIR)\n",
    "    # load the index\n",
    "    storage_context = StorageContext.from_defaults(persist_dir=PERSIST_DIR)\n",
    "    index = load_index_from_storage(service_context=service_context, storage_context=storage_context)\n",
    "    query_engine = index.as_query_engine()\n",
    "    response = query_engine.query('Are there any action items for a comapny that is embarking on building a foundational model?')\n",
    "    print(response)"
   ]
  },
  {
   "cell_type": "code",
   "execution_count": 43,
   "id": "a6c76bdf-622b-4d58-83bf-7bf680df05b2",
   "metadata": {},
   "outputs": [
    {
     "name": "stdout",
     "output_type": "stream",
     "text": [
      " There are several considerations for any organization embarking on foundational AI work. Foremost is establishing guiding principles to develop technologies that are safe, secure, private and beneficial to users. It's also important to involve diverse experts and consider how technologies may impact different communities. Ongoing research and oversight can help address risks, while engagement with stakeholders ensures technologies meet real needs. Overall, foundational models should be developed responsibly and for the benefit of all.\n"
     ]
    }
   ],
   "source": [
    "main(url='https://www.whitehouse.gov/briefing-room/statements-releases/2023/10/30/fact-sheet-president-biden-issues-executive-order-on-safe-secure-and-trustworthy-artificial-intelligence/')"
   ]
  },
  {
   "cell_type": "code",
   "execution_count": 2,
   "id": "e73bbb0b-8b91-4ee9-baa7-6de157b22848",
   "metadata": {},
   "outputs": [],
   "source": [
    "import chromadb\n",
    "from llama_index.vector_stores import ChromaVectorStore"
   ]
  },
  {
   "cell_type": "code",
   "execution_count": 3,
   "id": "0abe0441-384f-4977-aee9-17c387cd3823",
   "metadata": {},
   "outputs": [],
   "source": [
    "dbconn = chromadb.Client(chromadb.config.Settings(is_persistent=True, persist_directory='./storage'))\n",
    "    "
   ]
  },
  {
   "cell_type": "code",
   "execution_count": 58,
   "id": "3772e51e-18e8-4659-986f-6ff54b7fda9b",
   "metadata": {},
   "outputs": [
    {
     "ename": "ValueError",
     "evalue": "Collection test already exists.",
     "output_type": "error",
     "traceback": [
      "\u001b[0;31m---------------------------------------------------------------------------\u001b[0m",
      "\u001b[0;31mValueError\u001b[0m                                Traceback (most recent call last)",
      "Cell \u001b[0;32mIn[58], line 1\u001b[0m\n\u001b[0;32m----> 1\u001b[0m \u001b[43mdbconn\u001b[49m\u001b[38;5;241;43m.\u001b[39;49m\u001b[43mcreate_collection\u001b[49m\u001b[43m(\u001b[49m\u001b[38;5;124;43m'\u001b[39;49m\u001b[38;5;124;43mtest\u001b[39;49m\u001b[38;5;124;43m'\u001b[39;49m\u001b[43m)\u001b[49m\n",
      "File \u001b[0;32m~/Projects/idea/yolov5/venv/lib/python3.10/site-packages/chromadb/api/segment.py:122\u001b[0m, in \u001b[0;36mSegmentAPI.create_collection\u001b[0;34m(self, name, metadata, embedding_function, get_or_create)\u001b[0m\n\u001b[1;32m    114\u001b[0m         \u001b[38;5;28;01mreturn\u001b[39;00m Collection(\n\u001b[1;32m    115\u001b[0m             client\u001b[38;5;241m=\u001b[39m\u001b[38;5;28mself\u001b[39m,\n\u001b[1;32m    116\u001b[0m             \u001b[38;5;28mid\u001b[39m\u001b[38;5;241m=\u001b[39mexisting[\u001b[38;5;241m0\u001b[39m][\u001b[38;5;124m\"\u001b[39m\u001b[38;5;124mid\u001b[39m\u001b[38;5;124m\"\u001b[39m],\n\u001b[0;32m   (...)\u001b[0m\n\u001b[1;32m    119\u001b[0m             embedding_function\u001b[38;5;241m=\u001b[39membedding_function,\n\u001b[1;32m    120\u001b[0m         )\n\u001b[1;32m    121\u001b[0m     \u001b[38;5;28;01melse\u001b[39;00m:\n\u001b[0;32m--> 122\u001b[0m         \u001b[38;5;28;01mraise\u001b[39;00m \u001b[38;5;167;01mValueError\u001b[39;00m(\u001b[38;5;124mf\u001b[39m\u001b[38;5;124m\"\u001b[39m\u001b[38;5;124mCollection \u001b[39m\u001b[38;5;132;01m{\u001b[39;00mname\u001b[38;5;132;01m}\u001b[39;00m\u001b[38;5;124m already exists.\u001b[39m\u001b[38;5;124m\"\u001b[39m)\n\u001b[1;32m    124\u001b[0m \u001b[38;5;66;03m# TODO: remove backwards compatibility in naming requirements\u001b[39;00m\n\u001b[1;32m    125\u001b[0m check_index_name(name)\n",
      "\u001b[0;31mValueError\u001b[0m: Collection test already exists."
     ]
    }
   ],
   "source": [
    "dbconn.create_collection('test')"
   ]
  },
  {
   "cell_type": "code",
   "execution_count": 59,
   "id": "f0cb68c4-f56d-4b3a-a207-12e67574e5cb",
   "metadata": {},
   "outputs": [
    {
     "data": {
      "text/plain": [
       "[Collection(name=test)]"
      ]
     },
     "execution_count": 59,
     "metadata": {},
     "output_type": "execute_result"
    }
   ],
   "source": [
    "dbconn.list_collections()"
   ]
  },
  {
   "cell_type": "code",
   "execution_count": 60,
   "id": "590f9482-ddfd-49a5-812e-c087b5a8c87e",
   "metadata": {},
   "outputs": [],
   "source": [
    "collection = dbconn.get_collection('test')"
   ]
  },
  {
   "cell_type": "code",
   "execution_count": 63,
   "id": "9e0103ec-491f-488c-9329-a0353cf9bcd5",
   "metadata": {},
   "outputs": [],
   "source": [
    "student_info = \"\"\"\n",
    "Alexandra Thompson, a 19-year-old computer science sophomore with a 3.7 GPA,\n",
    "is a member of the programming and chess clubs who enjoys pizza, swimming, and hiking\n",
    "in her free time in hopes of working at a tech company after graduating from the University of Washington.\n",
    "\"\"\"\n",
    "\n",
    "club_info = \"\"\"\n",
    "The university chess club provides an outlet for students to come together and enjoy playing\n",
    "the classic strategy game of chess. Members of all skill levels are welcome, from beginners learning\n",
    "the rules to experienced tournament players. The club typically meets a few times per week to play casual games,\n",
    "participate in tournaments, analyze famous chess matches, and improve members' skills.\n",
    "\"\"\"\n",
    "\n",
    "university_info = \"\"\"\n",
    "The University of Washington, founded in 1861 in Seattle, is a public research university\n",
    "with over 45,000 students across three campuses in Seattle, Tacoma, and Bothell.\n",
    "As the flagship institution of the six public universities in Washington state,\n",
    "UW encompasses over 500 buildings and 20 million square feet of space,\n",
    "including one of the largest library systems in the world.\"\"\""
   ]
  },
  {
   "cell_type": "code",
   "execution_count": 64,
   "id": "dd6606b5-ae5b-4aa6-b73d-c4f75a7f3737",
   "metadata": {},
   "outputs": [
    {
     "name": "stderr",
     "output_type": "stream",
     "text": [
      "/Users/akshayranganath/.cache/chroma/onnx_models/all-MiniLM-L6-v2/onnx.tar.gz: 100%|███████████████████████████████████████████████████████████████████████████████████████████████████████████████████████████| 79.3M/79.3M [00:03<00:00, 21.5MiB/s]\n"
     ]
    }
   ],
   "source": [
    "collection.add(\n",
    "    documents = [student_info, club_info, university_info],\n",
    "    metadatas = [{\"source\": \"student info\"},{\"source\": \"club info\"},{'source':'university info'}],\n",
    "    ids = [\"id1\", \"id2\", \"id3\"]\n",
    ")"
   ]
  },
  {
   "cell_type": "code",
   "execution_count": 68,
   "id": "9d5043f6-6f24-413e-8821-4a23fbd75b16",
   "metadata": {},
   "outputs": [
    {
     "data": {
      "text/plain": [
       "{'ids': [['id1', 'id2', 'id3']],\n",
       " 'distances': [[1.2946666443895525, 1.3954031898157733, 1.5187653929866805]],\n",
       " 'metadatas': [[{'source': 'student info'},\n",
       "   {'source': 'club info'},\n",
       "   {'source': 'university info'}]],\n",
       " 'embeddings': None,\n",
       " 'documents': [['\\nAlexandra Thompson, a 19-year-old computer science sophomore with a 3.7 GPA,\\nis a member of the programming and chess clubs who enjoys pizza, swimming, and hiking\\nin her free time in hopes of working at a tech company after graduating from the University of Washington.\\n',\n",
       "   \"\\nThe university chess club provides an outlet for students to come together and enjoy playing\\nthe classic strategy game of chess. Members of all skill levels are welcome, from beginners learning\\nthe rules to experienced tournament players. The club typically meets a few times per week to play casual games,\\nparticipate in tournaments, analyze famous chess matches, and improve members' skills.\\n\",\n",
       "   '\\nThe University of Washington, founded in 1861 in Seattle, is a public research university\\nwith over 45,000 students across three campuses in Seattle, Tacoma, and Bothell.\\nAs the flagship institution of the six public universities in Washington state,\\nUW encompasses over 500 buildings and 20 million square feet of space,\\nincluding one of the largest library systems in the world.']]}"
      ]
     },
     "execution_count": 68,
     "metadata": {},
     "output_type": "execute_result"
    }
   ],
   "source": [
    "results = collection.query(\n",
    "    query_texts=[\"What is the student name?\"],\n",
    "    n_results=3\n",
    ")\n",
    "\n",
    "results"
   ]
  },
  {
   "cell_type": "markdown",
   "id": "abbd5a69-7e3d-4386-b79f-e68af1c6f80a",
   "metadata": {},
   "source": [
    "## Back to work\n",
    "Let's get back to indexing our URL"
   ]
  },
  {
   "cell_type": "code",
   "execution_count": 87,
   "id": "cdfe814d-1b09-40b0-af64-7af5d2f15d82",
   "metadata": {},
   "outputs": [],
   "source": [
    "def index_page(url:str)->None:\n",
    "    # first load the page\n",
    "    documents = SimpleWebPageReader(html_to_text=True).load_data(urls=[url])\n",
    "    #print(documents[0].text)\n",
    "    collection.add(\n",
    "        documents=[documents[0].text],\n",
    "        metadatas=[{\"source\": url}],\n",
    "        ids = ['id4']\n",
    "    )"
   ]
  },
  {
   "cell_type": "code",
   "execution_count": 88,
   "id": "8f372561-abd8-4298-9f1a-53ad297c743d",
   "metadata": {},
   "outputs": [],
   "source": [
    "index_page('https://akshayranganath.github.io/Comparing_Animated_Image_Formats/')"
   ]
  },
  {
   "cell_type": "code",
   "execution_count": 94,
   "id": "942ac722-ae60-41c6-94ab-4f7a9364cd6a",
   "metadata": {},
   "outputs": [],
   "source": [
    "resp = collection.query(query_texts=['What are the suggested formats for animated images?'])"
   ]
  },
  {
   "cell_type": "markdown",
   "id": "48f3061d-2b70-4048-998f-023558b4719d",
   "metadata": {},
   "source": [
    "This does embedding and storage using the default text embedding algorithm.\n",
    "\n",
    "Now, getting back to using Bedrock embedding"
   ]
  },
  {
   "cell_type": "code",
   "execution_count": 102,
   "id": "42ec63f5-b418-475d-ba3f-b9a65f1108e0",
   "metadata": {},
   "outputs": [],
   "source": [
    "# import\n",
    "from llama_index import VectorStoreIndex, SimpleDirectoryReader, ServiceContext\n",
    "from llama_index.vector_stores import ChromaVectorStore\n",
    "from llama_index.storage.storage_context import StorageContext\n",
    "from llama_index.embeddings import BedrockEmbedding\n",
    "from IPython.display import Markdown, display\n",
    "from llama_index.llms import Bedrock\n",
    "import chromadb"
   ]
  },
  {
   "cell_type": "code",
   "execution_count": 134,
   "id": "cda4c7b6-14ff-4d7c-8ace-0ac89a8f38a5",
   "metadata": {},
   "outputs": [],
   "source": [
    "PERSIST_DIR = \"./storage\"\n",
    "\n",
    "#llm = Bedrock(model='anthropic.claude-v2',temperature=0,profile_name='aws_sol')\n",
    "llm = Bedrock(model='anthropic.claude-instant-v1',temperature=0,profile_name='aws_sol')\n",
    "embedding = BedrockEmbedding.from_credentials(aws_profile='aws_sol')\n",
    "# create a service context using the Bedrock embeddings\n",
    "service_context = ServiceContext.from_defaults(\n",
    "    llm=llm,\n",
    "    embed_model=embedding    \n",
    ")  \n",
    "\n",
    "dbconn = chromadb.Client(chromadb.config.Settings(is_persistent=True, persist_directory='./storage'))\n",
    "chroma_collection = dbconn.get_collection('url-analyzer') #dbconn.create_collection('url-analyzer')\n",
    "\n",
    "\n",
    "vector_store = ChromaVectorStore(chroma_collection=chroma_collection)\n",
    "storage_context = StorageContext.from_defaults(vector_store=vector_store)"
   ]
  },
  {
   "cell_type": "code",
   "execution_count": 135,
   "id": "c07ce825-9696-4b6b-a5fb-80799e872920",
   "metadata": {},
   "outputs": [],
   "source": [
    "import uuid\n",
    "\n",
    "def load_page(url:str)->None:\n",
    "    # first load the page\n",
    "    documents = SimpleWebPageReader(html_to_text=True).load_data(urls=[url])\n",
    "    index = VectorStoreIndex.from_documents(\n",
    "        documents, storage_context=storage_context, service_context=service_context\n",
    "    )"
   ]
  },
  {
   "cell_type": "code",
   "execution_count": 136,
   "id": "23272b2e-62ee-4717-9838-6075e5d59430",
   "metadata": {},
   "outputs": [],
   "source": [
    "load_page('https://akshayranganath.github.io/Rate-Limiting-With-Python/')"
   ]
  },
  {
   "cell_type": "code",
   "execution_count": 137,
   "id": "f0c57c96-3f8e-4c7f-8f84-0232cd12a91c",
   "metadata": {},
   "outputs": [
    {
     "name": "stdout",
     "output_type": "stream",
     "text": [
      "stores_text=True is_embedding_query=True flat_metadata=True collection_name=None host=None port=None ssl=False headers=None persist_dir=None collection_kwargs={}\n"
     ]
    }
   ],
   "source": [
    "# now read the data\n",
    "# load from disk\n",
    "db2 = chromadb.PersistentClient(path=\"./storage\")\n",
    "chroma_collection = db2.get_collection('url-analyzer')\n",
    "vector_store = ChromaVectorStore(chroma_collection=chroma_collection)\n",
    "index = VectorStoreIndex.from_vector_store(\n",
    "    vector_store,\n",
    "    service_context=service_context,\n",
    ")\n",
    "\n",
    "print(index.vector_store)"
   ]
  },
  {
   "cell_type": "code",
   "execution_count": 140,
   "id": "777ed3bb-68dc-47e0-a7cd-8e44cf98b251",
   "metadata": {},
   "outputs": [],
   "source": [
    "# Query Data from the persisted index\n",
    "query_engine = index.as_query_engine()\n",
    "response = query_engine.query(\"Can you show sample code for rate limiting with python?\")"
   ]
  },
  {
   "cell_type": "code",
   "execution_count": 143,
   "id": "08abc572-44ab-447f-84a1-59909262d252",
   "metadata": {},
   "outputs": [
    {
     "data": {
      "text/markdown": [
       " Here is sample Python code to implement rate limiting:\n",
       "\n",
       "```python\n",
       "from ratelimiter import RateLimiter\n",
       "\n",
       "@RateLimiter(max_calls=30, period=1) \n",
       "def call_api():\n",
       "   # make API call\n",
       "   pass\n",
       "\n",
       "for i in range(60):\n",
       "   call_api() \n",
       "```\n",
       "\n",
       "The @RateLimiter decorator from the ratelimiter library is used to limit the call_api function to 30 calls per minute. This ensures the calls remain within the rate limit even if the code is running concurrently in multiple threads/processes."
      ],
      "text/plain": [
       "<IPython.core.display.Markdown object>"
      ]
     },
     "metadata": {},
     "output_type": "display_data"
    }
   ],
   "source": [
    "display(Markdown(response.response))"
   ]
  },
  {
   "cell_type": "code",
   "execution_count": 5,
   "id": "6db27d20-23d8-4545-bff3-a8818d14f3ff",
   "metadata": {},
   "outputs": [
    {
     "data": {
      "text/plain": [
       "[Collection(name=test),\n",
       " Collection(name=url-analyzer),\n",
       " Collection(name=quickstart)]"
      ]
     },
     "execution_count": 5,
     "metadata": {},
     "output_type": "execute_result"
    }
   ],
   "source": [
    "PERSIST_DIR = './chat_with_website/storage/'\n",
    "\n",
    "#llm = Bedrock(model='anthropic.claude-v2',temperature=0,profile_name='aws_sol')\n",
    "llm = Bedrock(model='anthropic.claude-instant-v1',temperature=0,profile_name='aws_sol')\n",
    "embedding = BedrockEmbedding.from_credentials(aws_profile='aws_sol')\n",
    "# create a service context using the Bedrock embeddings\n",
    "service_context = ServiceContext.from_defaults(\n",
    "    llm=llm,\n",
    "    embed_model=embedding    \n",
    ")  \n",
    "dbconn = chromadb.Client(chromadb.config.Settings(is_persistent=True, persist_directory='./storage'))\n",
    "    \n",
    "\n",
    "dbconn.list_collections()"
   ]
  },
  {
   "cell_type": "code",
   "execution_count": 8,
   "id": "8b060483",
   "metadata": {},
   "outputs": [],
   "source": [
    "dbconn.delete_collection(name='quickstart')"
   ]
  },
  {
   "cell_type": "code",
   "execution_count": null,
   "id": "27bbcb90",
   "metadata": {},
   "outputs": [],
   "source": []
  }
 ],
 "metadata": {
  "kernelspec": {
   "display_name": "Python 3 (ipykernel)",
   "language": "python",
   "name": "python3"
  },
  "language_info": {
   "codemirror_mode": {
    "name": "ipython",
    "version": 3
   },
   "file_extension": ".py",
   "mimetype": "text/x-python",
   "name": "python",
   "nbconvert_exporter": "python",
   "pygments_lexer": "ipython3",
   "version": "3.10.13"
  }
 },
 "nbformat": 4,
 "nbformat_minor": 5
}
