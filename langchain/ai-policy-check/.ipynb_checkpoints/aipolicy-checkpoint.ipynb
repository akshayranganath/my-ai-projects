{
 "cells": [
  {
   "cell_type": "code",
   "execution_count": 1,
   "id": "9292d6c9-cc77-439b-b9d6-5195f30c6cce",
   "metadata": {},
   "outputs": [],
   "source": [
    "# the purpose of this notebook is to try and create a vector DB on the contents of the AI Policy."
   ]
  },
  {
   "cell_type": "code",
   "execution_count": 77,
   "id": "4ec7a8d6-32c7-404f-8e3c-42c94f50bedd",
   "metadata": {},
   "outputs": [],
   "source": [
    "# use the beautiful soup loader\n",
    "from langchain.document_loaders import BSHTMLLoader"
   ]
  },
  {
   "cell_type": "code",
   "execution_count": 78,
   "id": "d43a649b-171d-46f8-9432-ea49f659375c",
   "metadata": {},
   "outputs": [],
   "source": [
    "# how is the doc being embedded\n",
    "from langchain.embeddings import OpenAIEmbeddings"
   ]
  },
  {
   "cell_type": "code",
   "execution_count": 79,
   "id": "6d53b25c-b262-4c23-ba79-13cbbd631f75",
   "metadata": {},
   "outputs": [],
   "source": [
    "# how will text be split?\n",
    "from langchain.text_splitter import CharacterTextSplitter"
   ]
  },
  {
   "cell_type": "code",
   "execution_count": 80,
   "id": "b8410bad-955b-4e8f-92eb-1c9038562e65",
   "metadata": {},
   "outputs": [],
   "source": [
    "# now the database\n",
    "from langchain.vectorstores import Chroma"
   ]
  },
  {
   "cell_type": "code",
   "execution_count": 81,
   "id": "8d7fd521-5b2c-4a9c-8e4a-27d655e00148",
   "metadata": {},
   "outputs": [],
   "source": [
    "from langchain.chat_models import ChatOpenAI"
   ]
  },
  {
   "cell_type": "code",
   "execution_count": 82,
   "id": "0b1a40a8-6ad1-40f3-8e11-580839fcb16f",
   "metadata": {},
   "outputs": [],
   "source": [
    "# first load the document\n",
    "loader = BSHTMLLoader('./policy.html')\n",
    "documents = loader.load()"
   ]
  },
  {
   "cell_type": "code",
   "execution_count": 83,
   "id": "ae696345-857f-4a4e-a35e-adcda5bac472",
   "metadata": {},
   "outputs": [
    {
     "name": "stderr",
     "output_type": "stream",
     "text": [
      "WARNING:langchain.text_splitter:Created a chunk of size 517, which is longer than the specified 500\n"
     ]
    }
   ],
   "source": [
    "# split the docs into chunks\n",
    "text_splitter = CharacterTextSplitter.from_tiktoken_encoder(chunk_size=500)\n",
    "split_docs = text_splitter.split_documents(documents)"
   ]
  },
  {
   "cell_type": "code",
   "execution_count": 84,
   "id": "75bc0960-57d1-44e9-abf7-ad524a0d35d6",
   "metadata": {},
   "outputs": [],
   "source": [
    "# now connect to embedding function\n",
    "embedding_function = OpenAIEmbeddings()"
   ]
  },
  {
   "cell_type": "raw",
   "id": "5ad171bc-f233-43b6-8690-3aa56225064d",
   "metadata": {},
   "source": [
    "# now create a vector store\n",
    "db = Chroma.from_documents(\n",
    "    split_docs,\n",
    "    embedding=embedding_function,\n",
    "    persist_directory='.'\n",
    ")"
   ]
  },
  {
   "cell_type": "raw",
   "id": "72d1deae-2528-46f2-8627-207736a382f0",
   "metadata": {},
   "source": [
    "db.persist()"
   ]
  },
  {
   "cell_type": "code",
   "execution_count": 85,
   "id": "ff0e783f-2f6b-4a2a-8315-1357db60dd6d",
   "metadata": {},
   "outputs": [],
   "source": [
    "# load back the doc\n",
    "db_new_connection = Chroma(\n",
    "    persist_directory='.',\n",
    "    embedding_function=embedding_function\n",
    ")"
   ]
  },
  {
   "cell_type": "code",
   "execution_count": 86,
   "id": "f6894bf3-b11c-4630-ac5f-272ce5c057ec",
   "metadata": {},
   "outputs": [],
   "source": [
    "# find similar text first\n",
    "question = 'Who and which organizations helped create the policy?'\n",
    "similar_docs = db_new_connection.similarity_search(new_query)"
   ]
  },
  {
   "cell_type": "raw",
   "id": "f83f39ed-94b3-470a-b15b-e4ef22a1bd31",
   "metadata": {},
   "source": [
    "print(similar_docs[0].page_content)"
   ]
  },
  {
   "cell_type": "code",
   "execution_count": 87,
   "id": "7f123bb8-e59e-4d25-85b9-987b4707ea0d",
   "metadata": {},
   "outputs": [],
   "source": [
    "# we need a MultiQuery\n",
    "from langchain.retrievers.multi_query import MultiQueryRetriever"
   ]
  },
  {
   "cell_type": "code",
   "execution_count": 88,
   "id": "f9443d7f-2817-45f0-a01a-d6f19834706d",
   "metadata": {},
   "outputs": [],
   "source": [
    "# finally, connnect the llm and use it for query\n",
    "llm = ChatOpenAI(temperature=0)\n",
    "retriever_from_llm = MultiQueryRetriever.from_llm(\n",
    "    retriever=db_new_connection.as_retriever(),\n",
    "    llm = llm\n",
    ")"
   ]
  },
  {
   "cell_type": "code",
   "execution_count": 89,
   "id": "6f8c37b4-8f44-4b2f-9424-2251d188d052",
   "metadata": {},
   "outputs": [],
   "source": [
    "# get more logging in output\n",
    "# logging behind scenes\n",
    "import logging\n",
    "logging.basicConfig()\n",
    "logging.getLogger('langchain.retrievers.multi_query').setLevel(logging.INFO)"
   ]
  },
  {
   "cell_type": "code",
   "execution_count": 90,
   "id": "749e2522-acb7-4f7f-9cba-ae53c7edd607",
   "metadata": {},
   "outputs": [
    {
     "name": "stderr",
     "output_type": "stream",
     "text": [
      "INFO:langchain.retrievers.multi_query:Generated queries: ['1. Which individuals and organizations played a role in the development of the policy?', '2. Can you provide information about the people and organizations involved in the creation of the policy?', '3. Who were the key contributors, both individuals and organizations, in the policy-making process?']\n"
     ]
    }
   ],
   "source": [
    "# finally execute the chat query and print the result\n",
    "unique_docs = retriever_from_llm.get_relevant_documents(question)"
   ]
  },
  {
   "cell_type": "code",
   "execution_count": 91,
   "id": "609fba7b-c179-4035-9d43-23f50a632523",
   "metadata": {},
   "outputs": [],
   "source": [
    "# finally, summarize the text that was retrieved\n",
    "matching_docs = ''\n",
    "\n",
    "for doc in unique_docs:\n",
    "    matching_docs += doc.page_content"
   ]
  },
  {
   "cell_type": "code",
   "execution_count": 92,
   "id": "6dfa6009-ce9f-4bf0-a5a5-b86195e73c65",
   "metadata": {},
   "outputs": [],
   "source": [
    "# now execute a new query to LLM\n",
    "from langchain.prompts.chat import SystemMessagePromptTemplate, HumanMessagePromptTemplate, AIMessagePromptTemplate, ChatPromptTemplate"
   ]
  },
  {
   "cell_type": "code",
   "execution_count": 93,
   "id": "f85f405a-6dd5-4989-8331-ed5548126e5b",
   "metadata": {},
   "outputs": [],
   "source": [
    "system_template = 'You are an expert and analyzing the given text input and extracting the relevant information. Answer the user question based only the text provided and no external data'\n",
    "system_prompt = SystemMessagePromptTemplate.from_template(system_template)"
   ]
  },
  {
   "cell_type": "code",
   "execution_count": 94,
   "id": "d64e7abd-894b-48da-aebe-037fc8678517",
   "metadata": {},
   "outputs": [],
   "source": [
    "human_message = '''Please answer my {question}. Here is the relevant information below: \n",
    "```\n",
    "{relevant_information}\n",
    "```\n",
    "'''\n",
    "human_prompt = HumanMessagePromptTemplate.from_template(human_message)"
   ]
  },
  {
   "cell_type": "code",
   "execution_count": 95,
   "id": "503f18d2-ae62-49b1-b757-27ba1f08c79c",
   "metadata": {},
   "outputs": [
    {
     "name": "stdout",
     "output_type": "stream",
     "text": [
      "[SystemMessage(content='You are an expert and analyzing the given text input and extracting the relevant information. Answer the user question based only the text provided and no external data'), HumanMessage(content='Please answer my Who and which organizations helped create the policy?. Here is the relevant information below: \\n```\\nAdvance the responsible use of AI\\xa0in healthcare and the development of affordable and life-saving drugs. The Department of Health and Human Services will also establish a safety program to receive reports of—and act to remedy – harms or unsafe healthcare practices involving AI.\\xa0\\nShape AI’s potential to transform education\\xa0by creating resources to support educators deploying AI-enabled educational tools, such as personalized tutoring in schools.\\n\\nSupporting Workers\\nAI is changing America’s jobs and workplaces, offering both the promise of improved productivity but also the dangers of increased workplace surveillance, bias, and job displacement.\\xa0To mitigate these risks, support workers’ ability to bargain collectively, and invest in workforce training and development that is accessible to all, the President directs the following actions:\\n\\nDevelop principles and best practices to mitigate the harms and maximize the benefits of AI for workers\\xa0by addressing job displacement; labor standards; workplace equity, health, and safety; and data collection. These principles and best practices will benefit workers by providing guidance to prevent employers from undercompensating workers, evaluating job applications unfairly, or impinging on workers’ ability to organize.\\nProduce a report on AI’s potential labor-market impacts, and\\xa0study and identify options for strengthening federal support for workers facing labor disruptions, including from AI.\\n\\nPromoting Innovation and Competition\\nAmerica already leads in AI innovation—more AI startups raised first-time capital in the United States last year than in the next seven countries combined.\\xa0The Executive Order ensures that we continue to lead the way in innovation and competition through the following actions:\\n\\nCatalyze AI research across the United States\\xa0through a pilot of the National AI Research Resource—a tool that will provide AI researchers and students access to key AI resources and data—and expanded grants for AI research in vital areas like healthcare and climate change.\\nPromote a fair, open, and competitive AI ecosystem\\xa0by providing small developers and entrepreneurs access to technical assistance and resources, helping small businesses commercialize AI breakthroughs, and encouraging the Federal Trade Commission to exercise its authorities.\\nUse existing authorities to expand the ability of highly skilled immigrants and nonimmigrants with expertise in critical areas to study, stay, and work in the United States\\xa0by modernizing and streamlining visa criteria, interviews, and reviews.Require that developers of the most powerful AI systems share their safety test results and other critical information with the U.S. government.\\xa0In accordance with the Defense Production Act, the Order will require that companies developing any foundation model that poses a serious risk to national security, national economic security, or national public health and safety must notify the federal government when training the model, and must share the results of all red-team safety tests. These measures will ensure AI systems are safe, secure, and trustworthy before companies make them public.\\xa0\\nDevelop standards, tools, and tests to help ensure that AI systems are safe, secure, and trustworthy.\\xa0The National Institute of Standards and Technology will set the rigorous standards for extensive red-team testing to ensure safety before public release. The Department of Homeland Security will apply those standards to critical infrastructure sectors and establish the AI Safety and Security Board. The Departments of Energy and Homeland Security will also address AI systems’ threats to critical infrastructure, as well as chemical, biological, radiological, nuclear, and cybersecurity risks. Together, these are the most significant actions ever taken by any government to advance the field of AI safety.\\nProtect against the risks of using AI to engineer dangerous biological materials\\xa0by developing strong new standards for biological synthesis screening. Agencies that fund life-science projects will establish these standards as a condition of federal funding, creating powerful incentives to ensure appropriate screening and manage risks potentially made worse by AI.\\nProtect Americans from AI-enabled fraud and deception by establishing standards and best practices for detecting AI-generated content and authenticating official content. The Department of Commerce will develop guidance for content authentication and watermarking to clearly label AI-generated content. Federal agencies will use these tools to make it easy for Americans to know that the communications they receive from their government are authentic—and set an example for the private sector and governments around the world.\\nEstablish an advanced cybersecurity program to develop AI tools to find and fix vulnerabilities in critical software,\\xa0building on the Biden-Harris Administration’s ongoing AI Cyber Challenge. Together, these efforts will harness AI’s potentially game-changing cyber capabilities to make software and networks more secure.\\nOrder the development of a National Security Memorandum that directs further actions on AI and security,\\xa0to be developed by the National Security Council and White House Chief of Staff. This document will ensure that the United States military and intelligence community use AI safely, ethically, and effectively in their missions, and will direct actions to counter adversaries’ military use of AI.Priorities\\n\\n\\nBriefing Room\\nThe White House\\n\\nShow submenu for “The White House””\\n\\n\\nPresidents\\nFirst Families\\nThe Grounds\\nOur Government\\n\\n\\nGet Involved\\n\\nShow submenu for “Get Involved””\\n\\n\\nWrite or Call The White House\\nJoin Us\\nWhite House Fellows\\nWhite House Internship Program\\n\\n\\nThe Record\\nDisclosures\\nEspañol\\n \\n\\nContact Us\\nPrivacy Policy\\nCopyright Policy\\nAccessibility Statement\\n \\n\\n\\nInstagramOpens in a new window\\nFacebookOpens in a new window\\nTwitterOpens in a new window\\nYouTubeOpens in a new window\\n \\n\\nThe White House\\n\\t\\t\\t\\t\\t\\t\\t\\t1600 Pennsylvania Ave NW\\n\\t\\t\\t\\t\\t\\t\\t\\tWashington, DC 20500\\n\\t\\t\\t\\t\\t\\t\\t\\n\\n\\nTo search this site, enter a search term\\n\\n \\n\\n\\nSearch\\n\\nOctober 30, 2023 \\n\\n\\t\\t\\t\\t\\t\\tFACT SHEET: President\\xa0Biden Issues Executive Order on Safe, Secure, and Trustworthy Artificial Intelligence\\t\\t\\t\\t\\t\\n\\n\\nHome\\n \\n\\n\\t\\t\\t\\t\\tBriefing Room\\t\\t\\t\\t\\n\\n\\t\\t\\t\\t\\tStatements and Releases\\t\\t\\t\\t\\n\\n\\nToday, President Biden is issuing a landmark Executive Order to ensure that America leads the way in seizing the promise and managing the risks of artificial intelligence (AI). The Executive Order establishes new standards for AI safety and security, protects Americans’ privacy, advances equity and civil rights, stands up for consumers and workers, promotes innovation and competition, advances American leadership around the world, and more.As part of the Biden-Harris Administration’s comprehensive strategy for responsible innovation, the Executive Order builds on previous actions the President has taken, including work that led to voluntary commitments from 15 leading companies to drive safe, secure, and trustworthy development of AI.The Executive Order directs the following actions:New Standards for AI Safety and Security\\nAs AI’s capabilities grow, so do its implications for Americans’ safety and security.\\xa0With this Executive Order, the\\xa0President directs the\\xa0most sweeping\\xa0actions\\xa0ever taken\\xa0to protect Americans from\\xa0the potential\\xa0risks\\xa0of\\xa0AI\\xa0systems:Catalyze AI research across the United States\\xa0through a pilot of the National AI Research Resource—a tool that will provide AI researchers and students access to key AI resources and data—and expanded grants for AI research in vital areas like healthcare and climate change.\\nPromote a fair, open, and competitive AI ecosystem\\xa0by providing small developers and entrepreneurs access to technical assistance and resources, helping small businesses commercialize AI breakthroughs, and encouraging the Federal Trade Commission to exercise its authorities.\\nUse existing authorities to expand the ability of highly skilled immigrants and nonimmigrants with expertise in critical areas to study, stay, and work in the United States\\xa0by modernizing and streamlining visa criteria, interviews, and reviews.\\n\\nAdvancing American Leadership Abroad\\nAI’s challenges and opportunities are global.\\xa0The Biden-Harris Administration will continue working with other nations to support safe, secure, and trustworthy deployment and use of AI worldwide. To that end, the President directs the following actions:\\n\\nExpand bilateral, multilateral, and multistakeholder engagements to collaborate on AI. The State Department, in collaboration, with the Commerce Department will lead an effort to establish robust international frameworks for harnessing AI’s benefits and managing its risks and ensuring safety. In addition, this week, Vice President Harris will speak at the UK Summit on AI Safety, hosted by Prime Minister Rishi Sunak.\\nAccelerate development and implementation of vital AI standards\\xa0with international partners and in standards organizations, ensuring that the technology is safe, secure, trustworthy, and interoperable.\\nPromote the safe, responsible, and rights-affirming development and deployment of AI abroad to solve global challenges,\\xa0such as advancing sustainable development and mitigating dangers to critical infrastructure.\\n\\nEnsuring Responsible and Effective Government Use of AI\\nAI can help government deliver better results for the American people. It can expand agencies’ capacity to regulate, govern, and disburse benefits, and it can cut costs and enhance the security of government systems. However, use of AI can pose risks, such as discrimination and unsafe decisions.\\xa0To ensure the responsible government deployment of AI and modernize federal AI infrastructure, the President directs the following actions:Ensuring Responsible and Effective Government Use of AI\\nAI can help government deliver better results for the American people. It can expand agencies’ capacity to regulate, govern, and disburse benefits, and it can cut costs and enhance the security of government systems. However, use of AI can pose risks, such as discrimination and unsafe decisions.\\xa0To ensure the responsible government deployment of AI and modernize federal AI infrastructure, the President directs the following actions:\\n\\nIssue guidance for agencies’ use of AI,\\xa0including clear standards to protect rights and safety, improve AI procurement, and strengthen AI deployment. \\xa0\\nHelp agencies acquire specified AI products and services\\xa0faster, more cheaply, and more effectively through more rapid and efficient contracting.\\nAccelerate the rapid hiring of AI professionals\\xa0as part of a government-wide AI talent surge led by the Office of Personnel Management, U.S. Digital Service, U.S. Digital Corps, and Presidential Innovation Fellowship. Agencies will provide AI training for employees at all levels in relevant fields.\\n\\nAs we advance this agenda at home, the Administration will work with allies and partners abroad on a strong international framework to govern the development and use of AI. The Administration has already consulted widely on AI governance frameworks over the past several months—engaging with Australia, Brazil, Canada, Chile, the European Union, France, Germany, India, Israel, Italy, Japan, Kenya, Mexico, the Netherlands, New Zealand, Nigeria, the Philippines, Singapore, South Korea, the UAE, and the UK. The actions taken today support and complement Japan’s leadership of the G-7 Hiroshima Process, the UK Summit on AI Safety, India’s leadership as Chair of the Global Partnership on AI, and ongoing discussions at the United Nations.The actions that President Biden directed today are vital steps forward in the U.S.’s approach on safe, secure, and trustworthy AI. More action will be required, and the Administration will continue to work with Congress to pursue bipartisan legislation to help America lead the way in responsible innovation.For more on the Biden-Harris Administration’s work to advance AI, and for opportunities to join the Federal AI workforce, visit AI.gov.\\n###\\n```\\n')]\n"
     ]
    }
   ],
   "source": [
    "chat_prompt = ChatPromptTemplate.from_messages([system_prompt, human_prompt])\n",
    "request = chat_prompt.format_prompt(question=question,relevant_information=matching_docs ).to_messages()\n",
    "#print(request)"
   ]
  },
  {
   "cell_type": "code",
   "execution_count": 96,
   "id": "0787f619-0ea4-4a0e-91a5-8aa883ccf36e",
   "metadata": {},
   "outputs": [],
   "source": [
    "response = llm(request)"
   ]
  },
  {
   "cell_type": "code",
   "execution_count": 97,
   "id": "1642c942-5d6f-4575-970f-ac72c22310bb",
   "metadata": {},
   "outputs": [
    {
     "data": {
      "text/plain": [
       "AIMessage(content='Based on the given information, the organizations that helped create the policy are not explicitly mentioned.')"
      ]
     },
     "execution_count": 97,
     "metadata": {},
     "output_type": "execute_result"
    }
   ],
   "source": [
    "response"
   ]
  },
  {
   "cell_type": "code",
   "execution_count": null,
   "id": "4625b47c-6b9c-453a-b446-a2365694418e",
   "metadata": {},
   "outputs": [],
   "source": []
  }
 ],
 "metadata": {
  "kernelspec": {
   "display_name": "Python 3 (ipykernel)",
   "language": "python",
   "name": "python3"
  },
  "language_info": {
   "codemirror_mode": {
    "name": "ipython",
    "version": 3
   },
   "file_extension": ".py",
   "mimetype": "text/x-python",
   "name": "python",
   "nbconvert_exporter": "python",
   "pygments_lexer": "ipython3",
   "version": "3.10.13"
  }
 },
 "nbformat": 4,
 "nbformat_minor": 5
}
