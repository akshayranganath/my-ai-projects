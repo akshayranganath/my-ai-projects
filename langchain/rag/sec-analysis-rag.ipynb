{
 "cells": [
  {
   "cell_type": "markdown",
   "id": "48957850-522e-4841-a624-6c95de60dcd0",
   "metadata": {},
   "source": [
    "# RAG for SEC Filing\n",
    "\n",
    "I was reading about RAG and came acorss [this repo](https://gist.github.com/virattt/985a352b945a0e1164e91415f1ab2eeb). I wanted to try this out with my implementation of RAG on Chroma. So here is my attempt."
   ]
  },
  {
   "cell_type": "markdown",
   "id": "c1bfb0a9-6d7a-47f5-b71c-41c5389d104c",
   "metadata": {},
   "source": [
    "## Step 1: Get the SEC filings as plain text"
   ]
  },
  {
   "cell_type": "code",
   "execution_count": 20,
   "id": "d67c5b6b-8c47-457b-981a-ca53fe4b7e22",
   "metadata": {},
   "outputs": [],
   "source": [
    "from langchain.text_splitter import RecursiveCharacterTextSplitter\n",
    "from langchain.document_loaders import PyPDFLoader"
   ]
  },
  {
   "cell_type": "code",
   "execution_count": 15,
   "id": "a1fb2342-50c0-43e5-8612-c4e5c0f727b8",
   "metadata": {},
   "outputs": [],
   "source": [
    "# URLs for the SEC filing\n",
    "appl_filing = 'https://d18rn0p25nwr6d.cloudfront.net/CIK-0000320193/f8aaeabb-7a2a-479d-bf72-9559ff51ea5d.pdf'\n",
    "meta_filing = 'https://d18rn0p25nwr6d.cloudfront.net/CIK-0001326801/ba763267-0ccb-4870-a7c5-e1bfd92a9ca7.pdf'"
   ]
  },
  {
   "cell_type": "code",
   "execution_count": 32,
   "id": "ce0f65e2-bafa-4b52-8c75-6c2a19cc1304",
   "metadata": {},
   "outputs": [],
   "source": [
    "# helper function to load the PDF from the URL and extract each page content.\n",
    "def load_sec_pdf_data(url):\n",
    "    doc = PyPDFLoader(url)\n",
    "    splitter = RecursiveCharacterTextSplitter(chunk_size=1000,chunk_overlap=0)\n",
    "    doc = splitter.split_documents(doc.load())\n",
    "    #text = ''\n",
    "    #for pg in doc:\n",
    "    #    text += pg.page_content\n",
    "    return doc"
   ]
  },
  {
   "cell_type": "code",
   "execution_count": 33,
   "id": "f7041f4a-dd82-4e1c-bf02-89941cf1dd93",
   "metadata": {},
   "outputs": [],
   "source": [
    "appl_text = load_sec_pdf_data(appl_filing)\n",
    "meta_text = load_sec_pdf_data(meta_filing)"
   ]
  },
  {
   "cell_type": "markdown",
   "id": "5b2050eb-7d46-4cef-877b-d045c82f3164",
   "metadata": {},
   "source": [
    "## Step 2: Convert the filing information into vector embeddings"
   ]
  },
  {
   "cell_type": "code",
   "execution_count": 34,
   "id": "c3e44319-b18d-4016-836e-c986a473d13c",
   "metadata": {},
   "outputs": [],
   "source": [
    "from langchain.vectorstores import Chroma\n",
    "from langchain.embeddings import OpenAIEmbeddings"
   ]
  },
  {
   "cell_type": "code",
   "execution_count": 35,
   "id": "ce6540d1-919f-4ba0-a2fd-b9a9e21e5d69",
   "metadata": {},
   "outputs": [],
   "source": [
    "def store_text_embeddings(text):\n",
    "    embedding = OpenAIEmbeddings()\n",
    "    #get the emebedding\n",
    "    db = Chroma.from_documents(\n",
    "        documents=text,\n",
    "        embedding=embedding,\n",
    "        persist_directory='./sec_data'\n",
    "    )\n",
    "    #now store it\n",
    "    db.persist()    "
   ]
  },
  {
   "cell_type": "code",
   "execution_count": 36,
   "id": "2b6764cf-bf0c-480d-ae1d-c8c8660d3ea3",
   "metadata": {},
   "outputs": [],
   "source": [
    "store_text_embeddings(appl_text)\n",
    "store_text_embeddings(meta_text)"
   ]
  },
  {
   "cell_type": "markdown",
   "id": "74dabb22-fb37-4d0b-9621-7648538b78f3",
   "metadata": {},
   "source": [
    "## Step 3 (optional): Test if data has been stored"
   ]
  },
  {
   "cell_type": "code",
   "execution_count": 37,
   "id": "078a7cff-5fd9-45b5-942c-8add0356d14d",
   "metadata": {},
   "outputs": [],
   "source": [
    "db = Chroma(persist_directory='./sec_data', embedding_function=OpenAIEmbeddings())"
   ]
  },
  {
   "cell_type": "code",
   "execution_count": 38,
   "id": "cd55b363-b0c7-4d37-8f2d-fb268ae5db76",
   "metadata": {},
   "outputs": [],
   "source": [
    "query = 'What are the risks mentioned by Apple?'"
   ]
  },
  {
   "cell_type": "code",
   "execution_count": 42,
   "id": "873124ae-4f21-40af-b75d-f3aa279cb173",
   "metadata": {},
   "outputs": [
    {
     "name": "stdout",
     "output_type": "stream",
     "text": [
      "Table of Contents\n",
      "Risks Related to Data, Security, Platform Integrity, and Intellectual Property\n",
      "•the occurrence of security breaches, improper access to or disclosure of our data or user data, and other cyber incidents, as well as intentional misuse\n",
      "of our services and other undesirable activity on our platform;\n",
      "•our ability to obtain, maintain, protect, and enforce our intellectual property rights; and\n",
      "Risks Related to Ownership of Our Class A Common Stock\n",
      "•limitations on the ability of holders of our Class A Common Stock to influence corporate matters due to the dual class structure of our common stock\n",
      "and the control of a majority of the voting power of our outstanding capital stock by our founder, Board Chair, and CEO.\n",
      "Risks Related to Our Product Offerings\n",
      "If we fail to retain existing users or add new users, or if our users decrease their level of engagement with our products, our revenue, financial results, and\n",
      "business may be significantly harmed.\n"
     ]
    }
   ],
   "source": [
    "print(db.similarity_search(query)[0].page_content)"
   ]
  },
  {
   "cell_type": "markdown",
   "id": "6a002699-ae8f-44b3-9e7e-d4657396a83d",
   "metadata": {},
   "source": [
    "## Step 4: Question the data"
   ]
  },
  {
   "cell_type": "code",
   "execution_count": 50,
   "id": "01542cd2-33f3-4131-94b3-914868c6eb61",
   "metadata": {},
   "outputs": [],
   "source": [
    "# this part is based on the doc https://python.langchain.com/docs/use_cases/question_answering/\n",
    "from langchain import hub\n",
    "from langchain_core.runnables import RunnablePassthrough\n",
    "from langchain.schema import StrOutputParser\n",
    "from langchain.chat_models import ChatOpenAI"
   ]
  },
  {
   "cell_type": "code",
   "execution_count": 44,
   "id": "94081f58-a3c7-4ff9-ae17-d136631de139",
   "metadata": {},
   "outputs": [],
   "source": [
    "# first connect to database\n",
    "db = Chroma(persist_directory='./sec_data', embedding_function=OpenAIEmbeddings())\n",
    "retriever = db.as_retriever()"
   ]
  },
  {
   "cell_type": "code",
   "execution_count": 51,
   "id": "8fea9ecd-1aae-48b9-84f0-6ea21563e826",
   "metadata": {},
   "outputs": [],
   "source": [
    "# now setup the LLM & RAG prompt\n",
    "prompt = hub.pull(\"rlm/rag-prompt\")\n",
    "llm = ChatOpenAI(model_name=\"gpt-3.5-turbo\", temperature=0)"
   ]
  },
  {
   "cell_type": "code",
   "execution_count": 52,
   "id": "51a777fc-ad7b-45cc-9ff7-750c065cfe3d",
   "metadata": {},
   "outputs": [],
   "source": [
    "# helper function to simply docs\n",
    "def format_docs(docs):\n",
    "    return \"\\n\\n\".join(doc.page_content for doc in docs)"
   ]
  },
  {
   "cell_type": "code",
   "execution_count": 53,
   "id": "86c92faa-43ca-4fe1-8150-27af39de4c64",
   "metadata": {},
   "outputs": [],
   "source": [
    "# this is a chain expressed using LangChain's special protocol called LECL\n",
    "# more info at: https://python.langchain.com/docs/expression_language/ \n",
    "rag_chain = (\n",
    "    {\"context\": retriever | format_docs, \"question\": RunnablePassthrough()}\n",
    "    | prompt\n",
    "    | llm\n",
    "    | StrOutputParser()\n",
    ")"
   ]
  },
  {
   "cell_type": "code",
   "execution_count": 55,
   "id": "29cd509d-d112-4a63-92c2-22d7962fc41b",
   "metadata": {},
   "outputs": [
    {
     "data": {
      "text/plain": [
       "'The revenue of Apple in the reporting period was $81,797 million.'"
      ]
     },
     "execution_count": 55,
     "metadata": {},
     "output_type": "execute_result"
    }
   ],
   "source": [
    "rag_chain.invoke('What was the revenue of Apple in the reporting period?')"
   ]
  },
  {
   "cell_type": "code",
   "execution_count": 56,
   "id": "5f8b6f1f-8b48-4a3a-acf1-6c1a9d8f3442",
   "metadata": {},
   "outputs": [
    {
     "data": {
      "text/plain": [
       "'The revenue of Meta in the reporting period was $34,146 million for the three months ended September 30, 2023, and $94,791 million for the nine months ended September 30, 2023.'"
      ]
     },
     "execution_count": 56,
     "metadata": {},
     "output_type": "execute_result"
    }
   ],
   "source": [
    "rag_chain.invoke('What was the revenue of Meta in the reporting period?')"
   ]
  },
  {
   "cell_type": "markdown",
   "id": "5b4f614b-83a4-48a4-90e5-d3d7d6b23678",
   "metadata": {},
   "source": [
    "## Step 5: Q&A With Source"
   ]
  },
  {
   "cell_type": "code",
   "execution_count": 59,
   "id": "60d84ddf-ee2c-47ae-8cb0-cd9f3773ecde",
   "metadata": {},
   "outputs": [],
   "source": [
    "from operator import itemgetter\n",
    "from langchain_core.runnables import RunnableParallel"
   ]
  },
  {
   "cell_type": "code",
   "execution_count": 62,
   "id": "96b0e4e4-153f-4355-b6f4-49eff63fd1ce",
   "metadata": {},
   "outputs": [],
   "source": [
    "rag_chain_from_docs = (\n",
    "    {\n",
    "        \"context\": lambda input: format_docs(input[\"documents\"]),\n",
    "        \"question\": itemgetter(\"question\"),\n",
    "    }\n",
    "    | prompt\n",
    "    | llm\n",
    "    | StrOutputParser()\n",
    ")\n",
    "\n",
    "rag_chain_with_source = RunnableParallel(\n",
    "    {\"documents\": retriever, \"question\": RunnablePassthrough()}\n",
    ") | {\n",
    "    \"documents\": lambda input: [doc.metadata for doc in input[\"documents\"]],\n",
    "    \"answer\": rag_chain_from_docs,\n",
    "}"
   ]
  },
  {
   "cell_type": "code",
   "execution_count": 63,
   "id": "6d70c9dc-3bf0-4304-aa20-faff1f6ad80c",
   "metadata": {},
   "outputs": [
    {
     "data": {
      "text/plain": [
       "{'documents': [{'page': 9,\n",
       "   'source': 'https://d18rn0p25nwr6d.cloudfront.net/CIK-0000320193/f8aaeabb-7a2a-479d-bf72-9559ff51ea5d.pdf'},\n",
       "  {'page': 3,\n",
       "   'source': 'https://d18rn0p25nwr6d.cloudfront.net/CIK-0000320193/f8aaeabb-7a2a-479d-bf72-9559ff51ea5d.pdf'},\n",
       "  {'page': 18,\n",
       "   'source': 'https://d18rn0p25nwr6d.cloudfront.net/CIK-0000320193/f8aaeabb-7a2a-479d-bf72-9559ff51ea5d.pdf'},\n",
       "  {'page': 12,\n",
       "   'source': 'https://d18rn0p25nwr6d.cloudfront.net/CIK-0000320193/f8aaeabb-7a2a-479d-bf72-9559ff51ea5d.pdf'}],\n",
       " 'answer': 'The revenue of Apple in the reporting period was $81,797 million.'}"
      ]
     },
     "execution_count": 63,
     "metadata": {},
     "output_type": "execute_result"
    }
   ],
   "source": [
    "rag_chain_with_source.invoke('What was the revenue of Apple in the reporting period?')"
   ]
  },
  {
   "cell_type": "code",
   "execution_count": null,
   "id": "70d81ee0-c3c8-483a-a419-2d09aa5d0f07",
   "metadata": {},
   "outputs": [],
   "source": []
  }
 ],
 "metadata": {
  "kernelspec": {
   "display_name": "Python 3 (ipykernel)",
   "language": "python",
   "name": "python3"
  },
  "language_info": {
   "codemirror_mode": {
    "name": "ipython",
    "version": 3
   },
   "file_extension": ".py",
   "mimetype": "text/x-python",
   "name": "python",
   "nbconvert_exporter": "python",
   "pygments_lexer": "ipython3",
   "version": "3.10.13"
  }
 },
 "nbformat": 4,
 "nbformat_minor": 5
}
